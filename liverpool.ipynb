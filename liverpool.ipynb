{
  "cells": [
    {
      "attachments": {},
      "cell_type": "markdown",
      "id": "d5d40998",
      "metadata": {},
      "source": [
        "#### Packages and Libraries"
      ]
    },
    {
      "cell_type": "code",
      "execution_count": 50,
      "id": "77409388",
      "metadata": {},
      "outputs": [
        {
          "name": "stdout",
          "output_type": "stream",
          "text": [
            "Requirement already satisfied: xgboost in c:\\users\\odiaka\\miniconda3\\envs\\klopp\\lib\\site-packages (1.7.6)\n",
            "Requirement already satisfied: numpy in c:\\users\\odiaka\\miniconda3\\envs\\klopp\\lib\\site-packages (from xgboost) (1.25.1)\n",
            "Requirement already satisfied: scipy in c:\\users\\odiaka\\miniconda3\\envs\\klopp\\lib\\site-packages (from xgboost) (1.11.1)\n"
          ]
        }
      ],
      "source": [
        "!pip install xgboost"
      ]
    },
    {
      "cell_type": "code",
      "execution_count": 51,
      "id": "72e930a0",
      "metadata": {},
      "outputs": [
        {
          "name": "stdout",
          "output_type": "stream",
          "text": [
            "Requirement already satisfied: imblearn in c:\\users\\odiaka\\miniconda3\\envs\\klopp\\lib\\site-packages (0.0)\n",
            "Requirement already satisfied: imbalanced-learn in c:\\users\\odiaka\\miniconda3\\envs\\klopp\\lib\\site-packages (from imblearn) (0.11.0)\n",
            "Requirement already satisfied: numpy>=1.17.3 in c:\\users\\odiaka\\miniconda3\\envs\\klopp\\lib\\site-packages (from imbalanced-learn->imblearn) (1.25.1)\n",
            "Requirement already satisfied: scipy>=1.5.0 in c:\\users\\odiaka\\miniconda3\\envs\\klopp\\lib\\site-packages (from imbalanced-learn->imblearn) (1.11.1)\n",
            "Requirement already satisfied: scikit-learn>=1.0.2 in c:\\users\\odiaka\\miniconda3\\envs\\klopp\\lib\\site-packages (from imbalanced-learn->imblearn) (1.2.2)\n",
            "Requirement already satisfied: joblib>=1.1.1 in c:\\users\\odiaka\\miniconda3\\envs\\klopp\\lib\\site-packages (from imbalanced-learn->imblearn) (1.3.1)\n",
            "Requirement already satisfied: threadpoolctl>=2.0.0 in c:\\users\\odiaka\\miniconda3\\envs\\klopp\\lib\\site-packages (from imbalanced-learn->imblearn) (3.2.0)\n"
          ]
        }
      ],
      "source": [
        "!pip install imblearn"
      ]
    },
    {
      "cell_type": "code",
      "execution_count": 52,
      "id": "7b6c32f0",
      "metadata": {},
      "outputs": [
        {
          "name": "stdout",
          "output_type": "stream",
          "text": [
            "Requirement already satisfied: optuna in c:\\users\\odiaka\\miniconda3\\envs\\klopp\\lib\\site-packages (3.2.0)\n",
            "Requirement already satisfied: alembic>=1.5.0 in c:\\users\\odiaka\\miniconda3\\envs\\klopp\\lib\\site-packages (from optuna) (1.11.1)\n",
            "Requirement already satisfied: cmaes>=0.9.1 in c:\\users\\odiaka\\miniconda3\\envs\\klopp\\lib\\site-packages (from optuna) (0.10.0)\n",
            "Requirement already satisfied: colorlog in c:\\users\\odiaka\\miniconda3\\envs\\klopp\\lib\\site-packages (from optuna) (6.7.0)\n",
            "Requirement already satisfied: numpy in c:\\users\\odiaka\\miniconda3\\envs\\klopp\\lib\\site-packages (from optuna) (1.25.1)\n",
            "Requirement already satisfied: packaging>=20.0 in c:\\users\\odiaka\\miniconda3\\envs\\klopp\\lib\\site-packages (from optuna) (23.1)\n",
            "Requirement already satisfied: sqlalchemy>=1.3.0 in c:\\users\\odiaka\\miniconda3\\envs\\klopp\\lib\\site-packages (from optuna) (2.0.19)\n",
            "Requirement already satisfied: tqdm in c:\\users\\odiaka\\miniconda3\\envs\\klopp\\lib\\site-packages (from optuna) (4.65.0)\n",
            "Requirement already satisfied: PyYAML in c:\\users\\odiaka\\miniconda3\\envs\\klopp\\lib\\site-packages (from optuna) (6.0.1)\n",
            "Requirement already satisfied: Mako in c:\\users\\odiaka\\miniconda3\\envs\\klopp\\lib\\site-packages (from alembic>=1.5.0->optuna) (1.2.4)\n",
            "Requirement already satisfied: typing-extensions>=4 in c:\\users\\odiaka\\miniconda3\\envs\\klopp\\lib\\site-packages (from alembic>=1.5.0->optuna) (4.7.1)\n",
            "Requirement already satisfied: greenlet!=0.4.17 in c:\\users\\odiaka\\miniconda3\\envs\\klopp\\lib\\site-packages (from sqlalchemy>=1.3.0->optuna) (2.0.2)\n",
            "Requirement already satisfied: colorama in c:\\users\\odiaka\\miniconda3\\envs\\klopp\\lib\\site-packages (from colorlog->optuna) (0.4.6)\n",
            "Requirement already satisfied: MarkupSafe>=0.9.2 in c:\\users\\odiaka\\miniconda3\\envs\\klopp\\lib\\site-packages (from Mako->alembic>=1.5.0->optuna) (2.1.3)\n"
          ]
        }
      ],
      "source": [
        "!pip install optuna"
      ]
    },
    {
      "cell_type": "code",
      "execution_count": 53,
      "id": "e83affa0",
      "metadata": {
        "id": "e83affa0"
      },
      "outputs": [],
      "source": [
        "import numpy as np\n",
        "import pandas as pd\n",
        "import pickle\n",
        "from sklearn.metrics import confusion_matrix\n",
        "from sklearn.metrics import precision_score, recall_score, accuracy_score\n",
        "import xgboost as xgb\n",
        "from sklearn.naive_bayes import GaussianNB\n",
        "from sklearn.tree import DecisionTreeClassifier \n",
        "from sklearn.model_selection import train_test_split\n",
        "from sklearn.feature_extraction import DictVectorizer\n",
        "from imblearn.over_sampling import SMOTE\n",
        "import optuna\n",
        "from sklearn.pipeline import make_pipeline\n",
        "import mlflow\n",
        "from mlflow.tracking import MlflowClient\n",
        "from mlflow.entities import ViewType\n",
        "\n",
        "from warnings import filterwarnings\n",
        "filterwarnings('ignore')"
      ]
    },
    {
      "attachments": {},
      "cell_type": "markdown",
      "id": "bf3a1fdc",
      "metadata": {
        "id": "bf3a1fdc"
      },
      "source": [
        "### About the project."
      ]
    },
    {
      "cell_type": "markdown",
      "id": "e72197b1",
      "metadata": {
        "id": "e72197b1"
      },
      "source": [
        "![klopp.jpg](data:image/jpeg;base64,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)"
      ]
    },
    {
      "attachments": {},
      "cell_type": "markdown",
      "id": "b2d062b2",
      "metadata": {
        "id": "b2d062b2"
      },
      "source": [
        "This notebook is just me trying to productionize this project of mine which was centred around a model that predicts the output of any EPL game involving Liverpool FC under Jurgen Klopp. \n",
        "\n",
        "*Caveat* This is just for learning. Although the data is real and was gotten from https://www.premierleague.com/tables , there are less than 300 matches to get relevant data for training this model, so the model can only be so good. Again, it is not possible to model football in a way as to get a 100 percent foolproof model. \n",
        "\n",
        "All I am trying to say is that the aim of this notebook is to design a classification model, and to deploy this model while observing some MLOPs practices, on this Liverpool data. This model will predict the 'Outcome'(Win  or No_win) of any English Premier League game for Liverpool FC under Klopp's management based on such characteristics as:\n",
        "1. 'Form' - This is Liverpool's current form. It takes into consideration their performance in the last 5 games. Top means they won at least 4 of the last 5 games, Decent means that they won 3 games, Poor means they won less than 3 games.\n",
        "\n",
        "2. 'Opposition' - This is the measure of how much of a challenge the opposition team is. It takes into consideration their position on the English Premier League table at the time of the match. Tough means that the opposition club is top 6 on the table, or any of the 'Big Six' is placed top 9. Medium means that the opposition club is placed somewhere between positions 7 and 12 on the table, except for the 'Big Six' placed 7th, 8th, or 9th in which case they are still considered as Tough. Poor means that the opposition club is placed outside of the top 12 teams on the table. \n",
        "\n",
        "3. 'Season' - This is the time of the season the match will be played. There is Early, for matches that fall within first 11 matches. Matches that fall between 12th match of the season and 30th match of the season are considered as Middle, while the last 8 matches are considered Late.\n",
        "\n",
        "4. 'Venue' - This is the ground the match will be played on. There is Home, when Liverpool FC are playing at home in front of their home fans, and Away when they are not.  \n",
        "\n",
        "5. 'Previous_Match' - This is a record of the outcome of the previous Premier League match played by Liverpool FC. 1 if they won it, 0 otherwise (if they drew it, or lost it). \n",
        "\n",
        "6. 'UEFA' - This represents if Liverpool FC are engaged in European club football competitions at the time or not. Active for yes they are engaged in either UEFA Champions League or UEFA Europa League, Inactive for no they are not.\n",
        "\n",
        "'Big Six' referenced above refers to the 6 clubs that have been dominating the league for over a decade, and have proven to be miles ahead of the other clubs in terms of how difficult it is to get the win over them. These clubs are: Manchester City, Chelsea, Manchester United, Arsenal, Tottenham Hotspurs, and Liverpool. So anytime Liverpool plays against any of the remaining 5 teams of the 'Big Six', as long as they are placed top 9 teams in the table, they are always considered Tough."
      ]
    },
    {
      "cell_type": "markdown",
      "id": "58100a69",
      "metadata": {
        "id": "58100a69"
      },
      "source": [
        "### Set Options."
      ]
    },
    {
      "cell_type": "code",
      "execution_count": 54,
      "id": "4e255294",
      "metadata": {
        "id": "4e255294"
      },
      "outputs": [],
      "source": [
        "pd.set_option(\"display.max_columns\", None)\n",
        "pd.set_option('display.max_rows',90)\n",
        "pd.options.display.float_format = '{:.6f}'.format"
      ]
    },
    {
      "attachments": {},
      "cell_type": "markdown",
      "id": "95f57d8f",
      "metadata": {},
      "source": [
        "### Connect to mlflow"
      ]
    },
    {
      "cell_type": "code",
      "execution_count": 55,
      "id": "61f35e98",
      "metadata": {},
      "outputs": [
        {
          "name": "stderr",
          "output_type": "stream",
          "text": [
            "2023/07/30 11:40:58 INFO mlflow.tracking.fluent: Experiment with name 'Klopps-Liverpool-experiment' does not exist. Creating a new experiment.\n"
          ]
        },
        {
          "data": {
            "text/plain": [
              "<Experiment: artifact_location='file:///C:/Users/Odiaka/world/Data_Science/Datasets/Klopps_Liverpool/productionized/artifacts/1', creation_time=1690713659025, experiment_id='1', last_update_time=1690713659025, lifecycle_stage='active', name='Klopps-Liverpool-experiment', tags={}>"
            ]
          },
          "execution_count": 55,
          "metadata": {},
          "output_type": "execute_result"
        }
      ],
      "source": [
        "mlflow.set_tracking_uri(\"http://127.0.0.1:5000\")\n",
        "mlflow.set_experiment(\"Klopps-Liverpool-experiment\")"
      ]
    },
    {
      "cell_type": "markdown",
      "id": "ee765dd2",
      "metadata": {
        "id": "ee765dd2"
      },
      "source": [
        "### Read Data."
      ]
    },
    {
      "cell_type": "code",
      "execution_count": 56,
      "id": "20e50bf1",
      "metadata": {
        "id": "20e50bf1"
      },
      "outputs": [],
      "source": [
        "data = pd.read_csv('data/liverpool.csv')"
      ]
    },
    {
      "cell_type": "code",
      "execution_count": 57,
      "id": "f314cccb",
      "metadata": {
        "colab": {
          "base_uri": "https://localhost:8080/",
          "height": 206
        },
        "id": "f314cccb",
        "outputId": "04ae6fed-a492-4c2e-8a43-9412dc3fe535"
      },
      "outputs": [
        {
          "data": {
            "text/html": [
              "<div>\n",
              "<style scoped>\n",
              "    .dataframe tbody tr th:only-of-type {\n",
              "        vertical-align: middle;\n",
              "    }\n",
              "\n",
              "    .dataframe tbody tr th {\n",
              "        vertical-align: top;\n",
              "    }\n",
              "\n",
              "    .dataframe thead th {\n",
              "        text-align: right;\n",
              "    }\n",
              "</style>\n",
              "<table border=\"1\" class=\"dataframe\">\n",
              "  <thead>\n",
              "    <tr style=\"text-align: right;\">\n",
              "      <th></th>\n",
              "      <th>Date</th>\n",
              "      <th>Form</th>\n",
              "      <th>Opposition</th>\n",
              "      <th>Season</th>\n",
              "      <th>Venue</th>\n",
              "      <th>Previous_Match</th>\n",
              "      <th>UEFA</th>\n",
              "      <th>Outcome</th>\n",
              "    </tr>\n",
              "  </thead>\n",
              "  <tbody>\n",
              "    <tr>\n",
              "      <th>0</th>\n",
              "      <td>17/10/2015</td>\n",
              "      <td>Poor</td>\n",
              "      <td>Tough</td>\n",
              "      <td>Early</td>\n",
              "      <td>Away</td>\n",
              "      <td>0</td>\n",
              "      <td>Active</td>\n",
              "      <td>No_win</td>\n",
              "    </tr>\n",
              "    <tr>\n",
              "      <th>1</th>\n",
              "      <td>25/10/2015</td>\n",
              "      <td>Poor</td>\n",
              "      <td>Medium</td>\n",
              "      <td>Early</td>\n",
              "      <td>Home</td>\n",
              "      <td>0</td>\n",
              "      <td>Active</td>\n",
              "      <td>No_win</td>\n",
              "    </tr>\n",
              "    <tr>\n",
              "      <th>2</th>\n",
              "      <td>31/10/2015</td>\n",
              "      <td>Poor</td>\n",
              "      <td>Medium</td>\n",
              "      <td>Early</td>\n",
              "      <td>Away</td>\n",
              "      <td>0</td>\n",
              "      <td>Active</td>\n",
              "      <td>Win</td>\n",
              "    </tr>\n",
              "    <tr>\n",
              "      <th>3</th>\n",
              "      <td>8/11/2015</td>\n",
              "      <td>Poor</td>\n",
              "      <td>Medium</td>\n",
              "      <td>Middle</td>\n",
              "      <td>Home</td>\n",
              "      <td>1</td>\n",
              "      <td>Active</td>\n",
              "      <td>No_win</td>\n",
              "    </tr>\n",
              "    <tr>\n",
              "      <th>4</th>\n",
              "      <td>21/11/2015</td>\n",
              "      <td>Poor</td>\n",
              "      <td>Tough</td>\n",
              "      <td>Middle</td>\n",
              "      <td>Away</td>\n",
              "      <td>0</td>\n",
              "      <td>Active</td>\n",
              "      <td>Win</td>\n",
              "    </tr>\n",
              "  </tbody>\n",
              "</table>\n",
              "</div>"
            ],
            "text/plain": [
              "         Date  Form Opposition  Season Venue  Previous_Match    UEFA Outcome\n",
              "0  17/10/2015  Poor      Tough   Early  Away               0  Active  No_win\n",
              "1  25/10/2015  Poor     Medium   Early  Home               0  Active  No_win\n",
              "2  31/10/2015  Poor     Medium   Early  Away               0  Active     Win\n",
              "3   8/11/2015  Poor     Medium  Middle  Home               1  Active  No_win\n",
              "4  21/11/2015  Poor      Tough  Middle  Away               0  Active     Win"
            ]
          },
          "execution_count": 57,
          "metadata": {},
          "output_type": "execute_result"
        }
      ],
      "source": [
        "data.head()"
      ]
    },
    {
      "cell_type": "code",
      "execution_count": 58,
      "id": "42870d2a",
      "metadata": {
        "colab": {
          "base_uri": "https://localhost:8080/"
        },
        "id": "42870d2a",
        "outputId": "debe6bf3-fb55-4e02-f66e-630de4f1af17"
      },
      "outputs": [
        {
          "name": "stdout",
          "output_type": "stream",
          "text": [
            "<class 'pandas.core.frame.DataFrame'>\n",
            "RangeIndex: 257 entries, 0 to 256\n",
            "Data columns (total 8 columns):\n",
            " #   Column          Non-Null Count  Dtype \n",
            "---  ------          --------------  ----- \n",
            " 0   Date            257 non-null    object\n",
            " 1   Form            257 non-null    object\n",
            " 2   Opposition      257 non-null    object\n",
            " 3   Season          257 non-null    object\n",
            " 4   Venue           257 non-null    object\n",
            " 5   Previous_Match  257 non-null    int64 \n",
            " 6   UEFA            257 non-null    object\n",
            " 7   Outcome         257 non-null    object\n",
            "dtypes: int64(1), object(7)\n",
            "memory usage: 16.2+ KB\n"
          ]
        }
      ],
      "source": [
        "data.info()"
      ]
    },
    {
      "cell_type": "markdown",
      "id": "e978699c",
      "metadata": {
        "id": "e978699c"
      },
      "source": [
        "#### Copy data."
      ]
    },
    {
      "cell_type": "code",
      "execution_count": 59,
      "id": "632f3df3",
      "metadata": {
        "colab": {
          "base_uri": "https://localhost:8080/",
          "height": 206
        },
        "id": "632f3df3",
        "outputId": "9bb23a60-734a-4a2e-91f5-17335a7092c9"
      },
      "outputs": [
        {
          "data": {
            "text/html": [
              "<div>\n",
              "<style scoped>\n",
              "    .dataframe tbody tr th:only-of-type {\n",
              "        vertical-align: middle;\n",
              "    }\n",
              "\n",
              "    .dataframe tbody tr th {\n",
              "        vertical-align: top;\n",
              "    }\n",
              "\n",
              "    .dataframe thead th {\n",
              "        text-align: right;\n",
              "    }\n",
              "</style>\n",
              "<table border=\"1\" class=\"dataframe\">\n",
              "  <thead>\n",
              "    <tr style=\"text-align: right;\">\n",
              "      <th></th>\n",
              "      <th>Date</th>\n",
              "      <th>Form</th>\n",
              "      <th>Opposition</th>\n",
              "      <th>Season</th>\n",
              "      <th>Venue</th>\n",
              "      <th>Previous_Match</th>\n",
              "      <th>UEFA</th>\n",
              "      <th>Outcome</th>\n",
              "    </tr>\n",
              "  </thead>\n",
              "  <tbody>\n",
              "    <tr>\n",
              "      <th>0</th>\n",
              "      <td>17/10/2015</td>\n",
              "      <td>Poor</td>\n",
              "      <td>Tough</td>\n",
              "      <td>Early</td>\n",
              "      <td>Away</td>\n",
              "      <td>0</td>\n",
              "      <td>Active</td>\n",
              "      <td>No_win</td>\n",
              "    </tr>\n",
              "    <tr>\n",
              "      <th>1</th>\n",
              "      <td>25/10/2015</td>\n",
              "      <td>Poor</td>\n",
              "      <td>Medium</td>\n",
              "      <td>Early</td>\n",
              "      <td>Home</td>\n",
              "      <td>0</td>\n",
              "      <td>Active</td>\n",
              "      <td>No_win</td>\n",
              "    </tr>\n",
              "    <tr>\n",
              "      <th>2</th>\n",
              "      <td>31/10/2015</td>\n",
              "      <td>Poor</td>\n",
              "      <td>Medium</td>\n",
              "      <td>Early</td>\n",
              "      <td>Away</td>\n",
              "      <td>0</td>\n",
              "      <td>Active</td>\n",
              "      <td>Win</td>\n",
              "    </tr>\n",
              "    <tr>\n",
              "      <th>3</th>\n",
              "      <td>8/11/2015</td>\n",
              "      <td>Poor</td>\n",
              "      <td>Medium</td>\n",
              "      <td>Middle</td>\n",
              "      <td>Home</td>\n",
              "      <td>1</td>\n",
              "      <td>Active</td>\n",
              "      <td>No_win</td>\n",
              "    </tr>\n",
              "    <tr>\n",
              "      <th>4</th>\n",
              "      <td>21/11/2015</td>\n",
              "      <td>Poor</td>\n",
              "      <td>Tough</td>\n",
              "      <td>Middle</td>\n",
              "      <td>Away</td>\n",
              "      <td>0</td>\n",
              "      <td>Active</td>\n",
              "      <td>Win</td>\n",
              "    </tr>\n",
              "  </tbody>\n",
              "</table>\n",
              "</div>"
            ],
            "text/plain": [
              "         Date  Form Opposition  Season Venue  Previous_Match    UEFA Outcome\n",
              "0  17/10/2015  Poor      Tough   Early  Away               0  Active  No_win\n",
              "1  25/10/2015  Poor     Medium   Early  Home               0  Active  No_win\n",
              "2  31/10/2015  Poor     Medium   Early  Away               0  Active     Win\n",
              "3   8/11/2015  Poor     Medium  Middle  Home               1  Active  No_win\n",
              "4  21/11/2015  Poor      Tough  Middle  Away               0  Active     Win"
            ]
          },
          "execution_count": 59,
          "metadata": {},
          "output_type": "execute_result"
        }
      ],
      "source": [
        "data1 = data.copy()\n",
        "data1.head()\n"
      ]
    },
    {
      "cell_type": "markdown",
      "id": "762da2e0",
      "metadata": {
        "id": "762da2e0"
      },
      "source": [
        "### Exploring the data."
      ]
    },
    {
      "cell_type": "markdown",
      "id": "09f44d2e",
      "metadata": {
        "id": "09f44d2e"
      },
      "source": [
        "#### Data Preparation:"
      ]
    },
    {
      "cell_type": "code",
      "execution_count": 60,
      "id": "1455bd1a",
      "metadata": {
        "id": "1455bd1a"
      },
      "outputs": [],
      "source": [
        "data1= data1.applymap(lambda s:s.lower().replace(' ', '_') if type(s) == str else s)\n",
        "data1.columns = [x.lower().replace(' ', '_') for x in data1.columns]\n",
        "data1.columns = [x.lower().replace(':', '') for x in data1.columns]\n",
        "data1.columns = [x.lower().replace('*', '') for x in data1.columns]\n",
        "data1.columns = [x.lower().replace('.', '') for x in data1.columns]"
      ]
    },
    {
      "cell_type": "code",
      "execution_count": 61,
      "id": "6ff3511f",
      "metadata": {
        "colab": {
          "base_uri": "https://localhost:8080/",
          "height": 206
        },
        "id": "6ff3511f",
        "outputId": "8ef82b5c-a060-4edd-d279-570e0dc4334c"
      },
      "outputs": [
        {
          "data": {
            "text/html": [
              "<div>\n",
              "<style scoped>\n",
              "    .dataframe tbody tr th:only-of-type {\n",
              "        vertical-align: middle;\n",
              "    }\n",
              "\n",
              "    .dataframe tbody tr th {\n",
              "        vertical-align: top;\n",
              "    }\n",
              "\n",
              "    .dataframe thead th {\n",
              "        text-align: right;\n",
              "    }\n",
              "</style>\n",
              "<table border=\"1\" class=\"dataframe\">\n",
              "  <thead>\n",
              "    <tr style=\"text-align: right;\">\n",
              "      <th></th>\n",
              "      <th>date</th>\n",
              "      <th>form</th>\n",
              "      <th>opposition</th>\n",
              "      <th>season</th>\n",
              "      <th>venue</th>\n",
              "      <th>previous_match</th>\n",
              "      <th>uefa</th>\n",
              "      <th>outcome</th>\n",
              "    </tr>\n",
              "  </thead>\n",
              "  <tbody>\n",
              "    <tr>\n",
              "      <th>0</th>\n",
              "      <td>17/10/2015</td>\n",
              "      <td>poor</td>\n",
              "      <td>tough</td>\n",
              "      <td>early</td>\n",
              "      <td>away</td>\n",
              "      <td>0</td>\n",
              "      <td>active</td>\n",
              "      <td>no_win</td>\n",
              "    </tr>\n",
              "    <tr>\n",
              "      <th>1</th>\n",
              "      <td>25/10/2015</td>\n",
              "      <td>poor</td>\n",
              "      <td>medium</td>\n",
              "      <td>early</td>\n",
              "      <td>home</td>\n",
              "      <td>0</td>\n",
              "      <td>active</td>\n",
              "      <td>no_win</td>\n",
              "    </tr>\n",
              "    <tr>\n",
              "      <th>2</th>\n",
              "      <td>31/10/2015</td>\n",
              "      <td>poor</td>\n",
              "      <td>medium</td>\n",
              "      <td>early</td>\n",
              "      <td>away</td>\n",
              "      <td>0</td>\n",
              "      <td>active</td>\n",
              "      <td>win</td>\n",
              "    </tr>\n",
              "    <tr>\n",
              "      <th>3</th>\n",
              "      <td>8/11/2015</td>\n",
              "      <td>poor</td>\n",
              "      <td>medium</td>\n",
              "      <td>middle</td>\n",
              "      <td>home</td>\n",
              "      <td>1</td>\n",
              "      <td>active</td>\n",
              "      <td>no_win</td>\n",
              "    </tr>\n",
              "    <tr>\n",
              "      <th>4</th>\n",
              "      <td>21/11/2015</td>\n",
              "      <td>poor</td>\n",
              "      <td>tough</td>\n",
              "      <td>middle</td>\n",
              "      <td>away</td>\n",
              "      <td>0</td>\n",
              "      <td>active</td>\n",
              "      <td>win</td>\n",
              "    </tr>\n",
              "  </tbody>\n",
              "</table>\n",
              "</div>"
            ],
            "text/plain": [
              "         date  form opposition  season venue  previous_match    uefa outcome\n",
              "0  17/10/2015  poor      tough   early  away               0  active  no_win\n",
              "1  25/10/2015  poor     medium   early  home               0  active  no_win\n",
              "2  31/10/2015  poor     medium   early  away               0  active     win\n",
              "3   8/11/2015  poor     medium  middle  home               1  active  no_win\n",
              "4  21/11/2015  poor      tough  middle  away               0  active     win"
            ]
          },
          "execution_count": 61,
          "metadata": {},
          "output_type": "execute_result"
        }
      ],
      "source": [
        "data1.head()"
      ]
    },
    {
      "cell_type": "code",
      "execution_count": 62,
      "id": "c95e9f95",
      "metadata": {
        "colab": {
          "base_uri": "https://localhost:8080/"
        },
        "id": "c95e9f95",
        "outputId": "b2c2d2cc-0071-4ae9-8db9-64c8aa95f42b"
      },
      "outputs": [
        {
          "data": {
            "text/plain": [
              "(257, 8)"
            ]
          },
          "execution_count": 62,
          "metadata": {},
          "output_type": "execute_result"
        }
      ],
      "source": [
        "data1.shape"
      ]
    },
    {
      "cell_type": "code",
      "execution_count": 63,
      "id": "f6fb909d",
      "metadata": {
        "id": "f6fb909d"
      },
      "outputs": [],
      "source": [
        "data1['date'] = pd.to_datetime(data1['date'])"
      ]
    },
    {
      "cell_type": "code",
      "execution_count": 64,
      "id": "fsIRqw-4wQHu",
      "metadata": {
        "colab": {
          "base_uri": "https://localhost:8080/"
        },
        "id": "fsIRqw-4wQHu",
        "outputId": "a7824ee6-5104-4eab-ffa7-6edb8e21fd20"
      },
      "outputs": [
        {
          "data": {
            "text/plain": [
              "0     2015-10-17\n",
              "1     2015-10-25\n",
              "2     2015-10-31\n",
              "3     2015-11-08\n",
              "4     2015-11-21\n",
              "         ...    \n",
              "252   2022-04-30\n",
              "253   2022-05-07\n",
              "254   2022-05-10\n",
              "255   2022-05-17\n",
              "256   2022-05-22\n",
              "Name: date, Length: 257, dtype: datetime64[ns]"
            ]
          },
          "execution_count": 64,
          "metadata": {},
          "output_type": "execute_result"
        }
      ],
      "source": [
        "data1['date']"
      ]
    },
    {
      "cell_type": "code",
      "execution_count": 65,
      "id": "82LrmwpAyhfC",
      "metadata": {
        "id": "82LrmwpAyhfC"
      },
      "outputs": [],
      "source": [
        "data1['day'] = data1['date'].dt.day\n",
        "data1['month'] = data1['date'].dt.month\n",
        "data1['year'] = data1['date'].dt.year"
      ]
    },
    {
      "cell_type": "code",
      "execution_count": 66,
      "id": "8IspL--p11Rz",
      "metadata": {
        "id": "8IspL--p11Rz"
      },
      "outputs": [],
      "source": [
        "data1 = data1.drop('date', axis=1)"
      ]
    },
    {
      "cell_type": "markdown",
      "id": "t8XDQz132yO1",
      "metadata": {
        "id": "t8XDQz132yO1"
      },
      "source": [
        "#### Copy data."
      ]
    },
    {
      "cell_type": "code",
      "execution_count": 67,
      "id": "-tGnMl9O2qDM",
      "metadata": {
        "colab": {
          "base_uri": "https://localhost:8080/",
          "height": 206
        },
        "id": "-tGnMl9O2qDM",
        "outputId": "6c316296-d4cc-4693-f5fd-1155a4f41ee8"
      },
      "outputs": [
        {
          "data": {
            "text/html": [
              "<div>\n",
              "<style scoped>\n",
              "    .dataframe tbody tr th:only-of-type {\n",
              "        vertical-align: middle;\n",
              "    }\n",
              "\n",
              "    .dataframe tbody tr th {\n",
              "        vertical-align: top;\n",
              "    }\n",
              "\n",
              "    .dataframe thead th {\n",
              "        text-align: right;\n",
              "    }\n",
              "</style>\n",
              "<table border=\"1\" class=\"dataframe\">\n",
              "  <thead>\n",
              "    <tr style=\"text-align: right;\">\n",
              "      <th></th>\n",
              "      <th>form</th>\n",
              "      <th>opposition</th>\n",
              "      <th>season</th>\n",
              "      <th>venue</th>\n",
              "      <th>previous_match</th>\n",
              "      <th>uefa</th>\n",
              "      <th>outcome</th>\n",
              "      <th>day</th>\n",
              "      <th>month</th>\n",
              "      <th>year</th>\n",
              "    </tr>\n",
              "  </thead>\n",
              "  <tbody>\n",
              "    <tr>\n",
              "      <th>0</th>\n",
              "      <td>poor</td>\n",
              "      <td>tough</td>\n",
              "      <td>early</td>\n",
              "      <td>away</td>\n",
              "      <td>0</td>\n",
              "      <td>active</td>\n",
              "      <td>no_win</td>\n",
              "      <td>17</td>\n",
              "      <td>10</td>\n",
              "      <td>2015</td>\n",
              "    </tr>\n",
              "    <tr>\n",
              "      <th>1</th>\n",
              "      <td>poor</td>\n",
              "      <td>medium</td>\n",
              "      <td>early</td>\n",
              "      <td>home</td>\n",
              "      <td>0</td>\n",
              "      <td>active</td>\n",
              "      <td>no_win</td>\n",
              "      <td>25</td>\n",
              "      <td>10</td>\n",
              "      <td>2015</td>\n",
              "    </tr>\n",
              "    <tr>\n",
              "      <th>2</th>\n",
              "      <td>poor</td>\n",
              "      <td>medium</td>\n",
              "      <td>early</td>\n",
              "      <td>away</td>\n",
              "      <td>0</td>\n",
              "      <td>active</td>\n",
              "      <td>win</td>\n",
              "      <td>31</td>\n",
              "      <td>10</td>\n",
              "      <td>2015</td>\n",
              "    </tr>\n",
              "    <tr>\n",
              "      <th>3</th>\n",
              "      <td>poor</td>\n",
              "      <td>medium</td>\n",
              "      <td>middle</td>\n",
              "      <td>home</td>\n",
              "      <td>1</td>\n",
              "      <td>active</td>\n",
              "      <td>no_win</td>\n",
              "      <td>8</td>\n",
              "      <td>11</td>\n",
              "      <td>2015</td>\n",
              "    </tr>\n",
              "    <tr>\n",
              "      <th>4</th>\n",
              "      <td>poor</td>\n",
              "      <td>tough</td>\n",
              "      <td>middle</td>\n",
              "      <td>away</td>\n",
              "      <td>0</td>\n",
              "      <td>active</td>\n",
              "      <td>win</td>\n",
              "      <td>21</td>\n",
              "      <td>11</td>\n",
              "      <td>2015</td>\n",
              "    </tr>\n",
              "  </tbody>\n",
              "</table>\n",
              "</div>"
            ],
            "text/plain": [
              "   form opposition  season venue  previous_match    uefa outcome  day  month  \\\n",
              "0  poor      tough   early  away               0  active  no_win   17     10   \n",
              "1  poor     medium   early  home               0  active  no_win   25     10   \n",
              "2  poor     medium   early  away               0  active     win   31     10   \n",
              "3  poor     medium  middle  home               1  active  no_win    8     11   \n",
              "4  poor      tough  middle  away               0  active     win   21     11   \n",
              "\n",
              "   year  \n",
              "0  2015  \n",
              "1  2015  \n",
              "2  2015  \n",
              "3  2015  \n",
              "4  2015  "
            ]
          },
          "execution_count": 67,
          "metadata": {},
          "output_type": "execute_result"
        }
      ],
      "source": [
        "data2 = data1.copy()\n",
        "data2.head()"
      ]
    },
    {
      "cell_type": "markdown",
      "id": "1788e8a1",
      "metadata": {
        "id": "1788e8a1"
      },
      "source": [
        "Missing values:"
      ]
    },
    {
      "cell_type": "code",
      "execution_count": 68,
      "id": "0b66433a",
      "metadata": {
        "id": "0b66433a"
      },
      "outputs": [],
      "source": [
        "missing_value = pd.DataFrame({\n",
        "    'Missing Value': data2.isnull().sum(),\n",
        "    'Percentage': (data2.isnull().sum() / len(data2))*100\n",
        "})"
      ]
    },
    {
      "cell_type": "code",
      "execution_count": 69,
      "id": "026f4184",
      "metadata": {
        "colab": {
          "base_uri": "https://localhost:8080/",
          "height": 363
        },
        "id": "026f4184",
        "outputId": "745edff0-4b6e-4e19-e4a6-a43958f885f5"
      },
      "outputs": [
        {
          "data": {
            "text/html": [
              "<div>\n",
              "<style scoped>\n",
              "    .dataframe tbody tr th:only-of-type {\n",
              "        vertical-align: middle;\n",
              "    }\n",
              "\n",
              "    .dataframe tbody tr th {\n",
              "        vertical-align: top;\n",
              "    }\n",
              "\n",
              "    .dataframe thead th {\n",
              "        text-align: right;\n",
              "    }\n",
              "</style>\n",
              "<table border=\"1\" class=\"dataframe\">\n",
              "  <thead>\n",
              "    <tr style=\"text-align: right;\">\n",
              "      <th></th>\n",
              "      <th>Missing Value</th>\n",
              "      <th>Percentage</th>\n",
              "    </tr>\n",
              "  </thead>\n",
              "  <tbody>\n",
              "    <tr>\n",
              "      <th>form</th>\n",
              "      <td>0</td>\n",
              "      <td>0.000000</td>\n",
              "    </tr>\n",
              "    <tr>\n",
              "      <th>opposition</th>\n",
              "      <td>0</td>\n",
              "      <td>0.000000</td>\n",
              "    </tr>\n",
              "    <tr>\n",
              "      <th>season</th>\n",
              "      <td>0</td>\n",
              "      <td>0.000000</td>\n",
              "    </tr>\n",
              "    <tr>\n",
              "      <th>venue</th>\n",
              "      <td>0</td>\n",
              "      <td>0.000000</td>\n",
              "    </tr>\n",
              "    <tr>\n",
              "      <th>previous_match</th>\n",
              "      <td>0</td>\n",
              "      <td>0.000000</td>\n",
              "    </tr>\n",
              "    <tr>\n",
              "      <th>uefa</th>\n",
              "      <td>0</td>\n",
              "      <td>0.000000</td>\n",
              "    </tr>\n",
              "    <tr>\n",
              "      <th>outcome</th>\n",
              "      <td>0</td>\n",
              "      <td>0.000000</td>\n",
              "    </tr>\n",
              "    <tr>\n",
              "      <th>day</th>\n",
              "      <td>0</td>\n",
              "      <td>0.000000</td>\n",
              "    </tr>\n",
              "    <tr>\n",
              "      <th>month</th>\n",
              "      <td>0</td>\n",
              "      <td>0.000000</td>\n",
              "    </tr>\n",
              "    <tr>\n",
              "      <th>year</th>\n",
              "      <td>0</td>\n",
              "      <td>0.000000</td>\n",
              "    </tr>\n",
              "  </tbody>\n",
              "</table>\n",
              "</div>"
            ],
            "text/plain": [
              "                Missing Value  Percentage\n",
              "form                        0    0.000000\n",
              "opposition                  0    0.000000\n",
              "season                      0    0.000000\n",
              "venue                       0    0.000000\n",
              "previous_match              0    0.000000\n",
              "uefa                        0    0.000000\n",
              "outcome                     0    0.000000\n",
              "day                         0    0.000000\n",
              "month                       0    0.000000\n",
              "year                        0    0.000000"
            ]
          },
          "execution_count": 69,
          "metadata": {},
          "output_type": "execute_result"
        }
      ],
      "source": [
        "missing_value.sort_values(by='Percentage', ascending=False)"
      ]
    },
    {
      "cell_type": "markdown",
      "id": "42677d57",
      "metadata": {
        "id": "42677d57"
      },
      "source": [
        "There are no missing values."
      ]
    },
    {
      "cell_type": "code",
      "execution_count": 70,
      "id": "7f6bfc85",
      "metadata": {
        "colab": {
          "base_uri": "https://localhost:8080/"
        },
        "id": "7f6bfc85",
        "outputId": "446e974a-e385-4d90-801c-72aa20f56f22"
      },
      "outputs": [
        {
          "data": {
            "text/plain": [
              "form              0\n",
              "opposition        0\n",
              "season            0\n",
              "venue             0\n",
              "previous_match    0\n",
              "uefa              0\n",
              "outcome           0\n",
              "day               0\n",
              "month             0\n",
              "year              0\n",
              "dtype: int64"
            ]
          },
          "execution_count": 70,
          "metadata": {},
          "output_type": "execute_result"
        }
      ],
      "source": [
        "data2.isnull().sum()"
      ]
    },
    {
      "cell_type": "markdown",
      "id": "0f3c1d37",
      "metadata": {
        "id": "0f3c1d37"
      },
      "source": [
        "Duplicate Data:"
      ]
    },
    {
      "cell_type": "code",
      "execution_count": 71,
      "id": "85335740",
      "metadata": {
        "colab": {
          "base_uri": "https://localhost:8080/"
        },
        "id": "85335740",
        "outputId": "45d17c6f-acce-4774-c193-3545367b523b"
      },
      "outputs": [
        {
          "name": "stdout",
          "output_type": "stream",
          "text": [
            "There are 0 duplicated rows in the data\n"
          ]
        }
      ],
      "source": [
        "duplicate = data2.duplicated().sum()\n",
        "print('There are {} duplicated rows in the data'.format(duplicate))"
      ]
    },
    {
      "cell_type": "markdown",
      "id": "ahYJ3oqE4PRg",
      "metadata": {
        "id": "ahYJ3oqE4PRg"
      },
      "source": [
        "data1.drop_duplicates(inplace=True)\n",
        "data1.reset_index(inplace=True, drop=True)"
      ]
    },
    {
      "cell_type": "markdown",
      "id": "5ef9af4c",
      "metadata": {
        "id": "5ef9af4c"
      },
      "source": [
        "### Feature Engineering."
      ]
    },
    {
      "cell_type": "code",
      "execution_count": 72,
      "id": "16b9ed79",
      "metadata": {
        "id": "16b9ed79",
        "outputId": "4efb9f5e-821a-4e48-b173-09a46d90e1d1"
      },
      "outputs": [
        {
          "data": {
            "text/html": [
              "<div>\n",
              "<style scoped>\n",
              "    .dataframe tbody tr th:only-of-type {\n",
              "        vertical-align: middle;\n",
              "    }\n",
              "\n",
              "    .dataframe tbody tr th {\n",
              "        vertical-align: top;\n",
              "    }\n",
              "\n",
              "    .dataframe thead th {\n",
              "        text-align: right;\n",
              "    }\n",
              "</style>\n",
              "<table border=\"1\" class=\"dataframe\">\n",
              "  <thead>\n",
              "    <tr style=\"text-align: right;\">\n",
              "      <th></th>\n",
              "      <th>form</th>\n",
              "      <th>opposition</th>\n",
              "      <th>season</th>\n",
              "      <th>venue</th>\n",
              "      <th>previous_match</th>\n",
              "      <th>uefa</th>\n",
              "      <th>outcome</th>\n",
              "      <th>day</th>\n",
              "      <th>month</th>\n",
              "      <th>year</th>\n",
              "    </tr>\n",
              "  </thead>\n",
              "  <tbody>\n",
              "    <tr>\n",
              "      <th>0</th>\n",
              "      <td>poor</td>\n",
              "      <td>tough</td>\n",
              "      <td>early</td>\n",
              "      <td>away</td>\n",
              "      <td>0</td>\n",
              "      <td>active</td>\n",
              "      <td>no_win</td>\n",
              "      <td>17</td>\n",
              "      <td>10</td>\n",
              "      <td>2015</td>\n",
              "    </tr>\n",
              "    <tr>\n",
              "      <th>1</th>\n",
              "      <td>poor</td>\n",
              "      <td>medium</td>\n",
              "      <td>early</td>\n",
              "      <td>home</td>\n",
              "      <td>0</td>\n",
              "      <td>active</td>\n",
              "      <td>no_win</td>\n",
              "      <td>25</td>\n",
              "      <td>10</td>\n",
              "      <td>2015</td>\n",
              "    </tr>\n",
              "    <tr>\n",
              "      <th>2</th>\n",
              "      <td>poor</td>\n",
              "      <td>medium</td>\n",
              "      <td>early</td>\n",
              "      <td>away</td>\n",
              "      <td>0</td>\n",
              "      <td>active</td>\n",
              "      <td>win</td>\n",
              "      <td>31</td>\n",
              "      <td>10</td>\n",
              "      <td>2015</td>\n",
              "    </tr>\n",
              "    <tr>\n",
              "      <th>3</th>\n",
              "      <td>poor</td>\n",
              "      <td>medium</td>\n",
              "      <td>middle</td>\n",
              "      <td>home</td>\n",
              "      <td>1</td>\n",
              "      <td>active</td>\n",
              "      <td>no_win</td>\n",
              "      <td>8</td>\n",
              "      <td>11</td>\n",
              "      <td>2015</td>\n",
              "    </tr>\n",
              "    <tr>\n",
              "      <th>4</th>\n",
              "      <td>poor</td>\n",
              "      <td>tough</td>\n",
              "      <td>middle</td>\n",
              "      <td>away</td>\n",
              "      <td>0</td>\n",
              "      <td>active</td>\n",
              "      <td>win</td>\n",
              "      <td>21</td>\n",
              "      <td>11</td>\n",
              "      <td>2015</td>\n",
              "    </tr>\n",
              "    <tr>\n",
              "      <th>...</th>\n",
              "      <td>...</td>\n",
              "      <td>...</td>\n",
              "      <td>...</td>\n",
              "      <td>...</td>\n",
              "      <td>...</td>\n",
              "      <td>...</td>\n",
              "      <td>...</td>\n",
              "      <td>...</td>\n",
              "      <td>...</td>\n",
              "      <td>...</td>\n",
              "    </tr>\n",
              "    <tr>\n",
              "      <th>252</th>\n",
              "      <td>top</td>\n",
              "      <td>medium</td>\n",
              "      <td>late</td>\n",
              "      <td>away</td>\n",
              "      <td>1</td>\n",
              "      <td>active</td>\n",
              "      <td>win</td>\n",
              "      <td>30</td>\n",
              "      <td>4</td>\n",
              "      <td>2022</td>\n",
              "    </tr>\n",
              "    <tr>\n",
              "      <th>253</th>\n",
              "      <td>top</td>\n",
              "      <td>tough</td>\n",
              "      <td>late</td>\n",
              "      <td>home</td>\n",
              "      <td>1</td>\n",
              "      <td>active</td>\n",
              "      <td>no_win</td>\n",
              "      <td>7</td>\n",
              "      <td>5</td>\n",
              "      <td>2022</td>\n",
              "    </tr>\n",
              "    <tr>\n",
              "      <th>254</th>\n",
              "      <td>top</td>\n",
              "      <td>easy</td>\n",
              "      <td>late</td>\n",
              "      <td>away</td>\n",
              "      <td>0</td>\n",
              "      <td>active</td>\n",
              "      <td>win</td>\n",
              "      <td>10</td>\n",
              "      <td>5</td>\n",
              "      <td>2022</td>\n",
              "    </tr>\n",
              "    <tr>\n",
              "      <th>255</th>\n",
              "      <td>top</td>\n",
              "      <td>easy</td>\n",
              "      <td>late</td>\n",
              "      <td>away</td>\n",
              "      <td>1</td>\n",
              "      <td>active</td>\n",
              "      <td>win</td>\n",
              "      <td>17</td>\n",
              "      <td>5</td>\n",
              "      <td>2022</td>\n",
              "    </tr>\n",
              "    <tr>\n",
              "      <th>256</th>\n",
              "      <td>top</td>\n",
              "      <td>medium</td>\n",
              "      <td>late</td>\n",
              "      <td>home</td>\n",
              "      <td>1</td>\n",
              "      <td>active</td>\n",
              "      <td>win</td>\n",
              "      <td>22</td>\n",
              "      <td>5</td>\n",
              "      <td>2022</td>\n",
              "    </tr>\n",
              "  </tbody>\n",
              "</table>\n",
              "<p>257 rows × 10 columns</p>\n",
              "</div>"
            ],
            "text/plain": [
              "     form opposition  season venue  previous_match    uefa outcome  day  \\\n",
              "0    poor      tough   early  away               0  active  no_win   17   \n",
              "1    poor     medium   early  home               0  active  no_win   25   \n",
              "2    poor     medium   early  away               0  active     win   31   \n",
              "3    poor     medium  middle  home               1  active  no_win    8   \n",
              "4    poor      tough  middle  away               0  active     win   21   \n",
              "..    ...        ...     ...   ...             ...     ...     ...  ...   \n",
              "252   top     medium    late  away               1  active     win   30   \n",
              "253   top      tough    late  home               1  active  no_win    7   \n",
              "254   top       easy    late  away               0  active     win   10   \n",
              "255   top       easy    late  away               1  active     win   17   \n",
              "256   top     medium    late  home               1  active     win   22   \n",
              "\n",
              "     month  year  \n",
              "0       10  2015  \n",
              "1       10  2015  \n",
              "2       10  2015  \n",
              "3       11  2015  \n",
              "4       11  2015  \n",
              "..     ...   ...  \n",
              "252      4  2022  \n",
              "253      5  2022  \n",
              "254      5  2022  \n",
              "255      5  2022  \n",
              "256      5  2022  \n",
              "\n",
              "[257 rows x 10 columns]"
            ]
          },
          "execution_count": 72,
          "metadata": {},
          "output_type": "execute_result"
        }
      ],
      "source": [
        "data2"
      ]
    },
    {
      "cell_type": "code",
      "execution_count": 73,
      "id": "c9013dac",
      "metadata": {
        "id": "c9013dac"
      },
      "outputs": [],
      "source": [
        "data2['result'] = data2['outcome'].replace(['win'], 1)\n",
        "data2['result'] = data2['result'].replace(['no_win'], 0)"
      ]
    },
    {
      "cell_type": "code",
      "execution_count": 74,
      "id": "3a19c4aa",
      "metadata": {},
      "outputs": [],
      "source": [
        "data2['ground'] = data2['venue'].replace(['home'], 1)\n",
        "data2['ground'] = data2['ground'].replace(['away'], 0)\n",
        "\n",
        "data2['foreign_league'] = data2['uefa'].replace(['active'], 1)\n",
        "data2['foreign_league'] = data2['foreign_league'].replace(['inactive'], 0)\n",
        "\n",
        "data2['time'] = data2['season'].replace(['early'], 0)\n",
        "data2['time'] = data2['time'].replace(['middle'], 1)\n",
        "data2['time'] = data2['time'].replace(['late'], 2)\n",
        "\n",
        "data2['difficulty'] = data2['opposition'].replace(['tough'], 2)\n",
        "data2['difficulty'] = data2['difficulty'].replace(['medium'], 1)\n",
        "data2['difficulty'] = data2['difficulty'].replace(['easy'], 0)\n",
        "\n",
        "data2['current_form'] = data2['form'].replace(['top'], 2)\n",
        "data2['current_form'] = data2['current_form'].replace(['decent'], 1)\n",
        "data2['current_form'] = data2['current_form'].replace(['poor'], 0)"
      ]
    },
    {
      "cell_type": "code",
      "execution_count": 75,
      "id": "8b409d8b",
      "metadata": {
        "id": "8b409d8b"
      },
      "outputs": [],
      "source": [
        "categorical = data2.select_dtypes(include= [\"object\"]).columns\n",
        "numerical = data2.select_dtypes(include=np.number).columns"
      ]
    },
    {
      "cell_type": "code",
      "execution_count": 76,
      "id": "11cb6d7f",
      "metadata": {
        "id": "11cb6d7f",
        "outputId": "97593886-4263-45d4-9bc5-419839e673e3"
      },
      "outputs": [
        {
          "data": {
            "text/html": [
              "<div>\n",
              "<style scoped>\n",
              "    .dataframe tbody tr th:only-of-type {\n",
              "        vertical-align: middle;\n",
              "    }\n",
              "\n",
              "    .dataframe tbody tr th {\n",
              "        vertical-align: top;\n",
              "    }\n",
              "\n",
              "    .dataframe thead th {\n",
              "        text-align: right;\n",
              "    }\n",
              "</style>\n",
              "<table border=\"1\" class=\"dataframe\">\n",
              "  <thead>\n",
              "    <tr style=\"text-align: right;\">\n",
              "      <th></th>\n",
              "      <th>form</th>\n",
              "      <th>opposition</th>\n",
              "      <th>season</th>\n",
              "      <th>venue</th>\n",
              "      <th>previous_match</th>\n",
              "      <th>uefa</th>\n",
              "      <th>outcome</th>\n",
              "      <th>day</th>\n",
              "      <th>month</th>\n",
              "      <th>year</th>\n",
              "      <th>result</th>\n",
              "      <th>ground</th>\n",
              "      <th>foreign_league</th>\n",
              "      <th>time</th>\n",
              "      <th>difficulty</th>\n",
              "      <th>current_form</th>\n",
              "    </tr>\n",
              "  </thead>\n",
              "  <tbody>\n",
              "    <tr>\n",
              "      <th>0</th>\n",
              "      <td>poor</td>\n",
              "      <td>tough</td>\n",
              "      <td>early</td>\n",
              "      <td>away</td>\n",
              "      <td>0</td>\n",
              "      <td>active</td>\n",
              "      <td>no_win</td>\n",
              "      <td>17</td>\n",
              "      <td>10</td>\n",
              "      <td>2015</td>\n",
              "      <td>0</td>\n",
              "      <td>0</td>\n",
              "      <td>1</td>\n",
              "      <td>0</td>\n",
              "      <td>2</td>\n",
              "      <td>0</td>\n",
              "    </tr>\n",
              "    <tr>\n",
              "      <th>1</th>\n",
              "      <td>poor</td>\n",
              "      <td>medium</td>\n",
              "      <td>early</td>\n",
              "      <td>home</td>\n",
              "      <td>0</td>\n",
              "      <td>active</td>\n",
              "      <td>no_win</td>\n",
              "      <td>25</td>\n",
              "      <td>10</td>\n",
              "      <td>2015</td>\n",
              "      <td>0</td>\n",
              "      <td>1</td>\n",
              "      <td>1</td>\n",
              "      <td>0</td>\n",
              "      <td>1</td>\n",
              "      <td>0</td>\n",
              "    </tr>\n",
              "    <tr>\n",
              "      <th>2</th>\n",
              "      <td>poor</td>\n",
              "      <td>medium</td>\n",
              "      <td>early</td>\n",
              "      <td>away</td>\n",
              "      <td>0</td>\n",
              "      <td>active</td>\n",
              "      <td>win</td>\n",
              "      <td>31</td>\n",
              "      <td>10</td>\n",
              "      <td>2015</td>\n",
              "      <td>1</td>\n",
              "      <td>0</td>\n",
              "      <td>1</td>\n",
              "      <td>0</td>\n",
              "      <td>1</td>\n",
              "      <td>0</td>\n",
              "    </tr>\n",
              "    <tr>\n",
              "      <th>3</th>\n",
              "      <td>poor</td>\n",
              "      <td>medium</td>\n",
              "      <td>middle</td>\n",
              "      <td>home</td>\n",
              "      <td>1</td>\n",
              "      <td>active</td>\n",
              "      <td>no_win</td>\n",
              "      <td>8</td>\n",
              "      <td>11</td>\n",
              "      <td>2015</td>\n",
              "      <td>0</td>\n",
              "      <td>1</td>\n",
              "      <td>1</td>\n",
              "      <td>1</td>\n",
              "      <td>1</td>\n",
              "      <td>0</td>\n",
              "    </tr>\n",
              "    <tr>\n",
              "      <th>4</th>\n",
              "      <td>poor</td>\n",
              "      <td>tough</td>\n",
              "      <td>middle</td>\n",
              "      <td>away</td>\n",
              "      <td>0</td>\n",
              "      <td>active</td>\n",
              "      <td>win</td>\n",
              "      <td>21</td>\n",
              "      <td>11</td>\n",
              "      <td>2015</td>\n",
              "      <td>1</td>\n",
              "      <td>0</td>\n",
              "      <td>1</td>\n",
              "      <td>1</td>\n",
              "      <td>2</td>\n",
              "      <td>0</td>\n",
              "    </tr>\n",
              "  </tbody>\n",
              "</table>\n",
              "</div>"
            ],
            "text/plain": [
              "   form opposition  season venue  previous_match    uefa outcome  day  month  \\\n",
              "0  poor      tough   early  away               0  active  no_win   17     10   \n",
              "1  poor     medium   early  home               0  active  no_win   25     10   \n",
              "2  poor     medium   early  away               0  active     win   31     10   \n",
              "3  poor     medium  middle  home               1  active  no_win    8     11   \n",
              "4  poor      tough  middle  away               0  active     win   21     11   \n",
              "\n",
              "   year  result  ground  foreign_league  time  difficulty  current_form  \n",
              "0  2015       0       0               1     0           2             0  \n",
              "1  2015       0       1               1     0           1             0  \n",
              "2  2015       1       0               1     0           1             0  \n",
              "3  2015       0       1               1     1           1             0  \n",
              "4  2015       1       0               1     1           2             0  "
            ]
          },
          "execution_count": 76,
          "metadata": {},
          "output_type": "execute_result"
        }
      ],
      "source": [
        "data2.head()"
      ]
    },
    {
      "attachments": {},
      "cell_type": "markdown",
      "id": "12aa303e",
      "metadata": {},
      "source": [
        "#### Copy data."
      ]
    },
    {
      "cell_type": "code",
      "execution_count": 77,
      "id": "fe3adc93",
      "metadata": {},
      "outputs": [
        {
          "data": {
            "text/html": [
              "<div>\n",
              "<style scoped>\n",
              "    .dataframe tbody tr th:only-of-type {\n",
              "        vertical-align: middle;\n",
              "    }\n",
              "\n",
              "    .dataframe tbody tr th {\n",
              "        vertical-align: top;\n",
              "    }\n",
              "\n",
              "    .dataframe thead th {\n",
              "        text-align: right;\n",
              "    }\n",
              "</style>\n",
              "<table border=\"1\" class=\"dataframe\">\n",
              "  <thead>\n",
              "    <tr style=\"text-align: right;\">\n",
              "      <th></th>\n",
              "      <th>form</th>\n",
              "      <th>opposition</th>\n",
              "      <th>season</th>\n",
              "      <th>venue</th>\n",
              "      <th>previous_match</th>\n",
              "      <th>uefa</th>\n",
              "      <th>outcome</th>\n",
              "      <th>day</th>\n",
              "      <th>month</th>\n",
              "      <th>year</th>\n",
              "      <th>result</th>\n",
              "      <th>ground</th>\n",
              "      <th>foreign_league</th>\n",
              "      <th>time</th>\n",
              "      <th>difficulty</th>\n",
              "      <th>current_form</th>\n",
              "    </tr>\n",
              "  </thead>\n",
              "  <tbody>\n",
              "    <tr>\n",
              "      <th>0</th>\n",
              "      <td>poor</td>\n",
              "      <td>tough</td>\n",
              "      <td>early</td>\n",
              "      <td>away</td>\n",
              "      <td>0</td>\n",
              "      <td>active</td>\n",
              "      <td>no_win</td>\n",
              "      <td>17</td>\n",
              "      <td>10</td>\n",
              "      <td>2015</td>\n",
              "      <td>0</td>\n",
              "      <td>0</td>\n",
              "      <td>1</td>\n",
              "      <td>0</td>\n",
              "      <td>2</td>\n",
              "      <td>0</td>\n",
              "    </tr>\n",
              "    <tr>\n",
              "      <th>1</th>\n",
              "      <td>poor</td>\n",
              "      <td>medium</td>\n",
              "      <td>early</td>\n",
              "      <td>home</td>\n",
              "      <td>0</td>\n",
              "      <td>active</td>\n",
              "      <td>no_win</td>\n",
              "      <td>25</td>\n",
              "      <td>10</td>\n",
              "      <td>2015</td>\n",
              "      <td>0</td>\n",
              "      <td>1</td>\n",
              "      <td>1</td>\n",
              "      <td>0</td>\n",
              "      <td>1</td>\n",
              "      <td>0</td>\n",
              "    </tr>\n",
              "    <tr>\n",
              "      <th>2</th>\n",
              "      <td>poor</td>\n",
              "      <td>medium</td>\n",
              "      <td>early</td>\n",
              "      <td>away</td>\n",
              "      <td>0</td>\n",
              "      <td>active</td>\n",
              "      <td>win</td>\n",
              "      <td>31</td>\n",
              "      <td>10</td>\n",
              "      <td>2015</td>\n",
              "      <td>1</td>\n",
              "      <td>0</td>\n",
              "      <td>1</td>\n",
              "      <td>0</td>\n",
              "      <td>1</td>\n",
              "      <td>0</td>\n",
              "    </tr>\n",
              "    <tr>\n",
              "      <th>3</th>\n",
              "      <td>poor</td>\n",
              "      <td>medium</td>\n",
              "      <td>middle</td>\n",
              "      <td>home</td>\n",
              "      <td>1</td>\n",
              "      <td>active</td>\n",
              "      <td>no_win</td>\n",
              "      <td>8</td>\n",
              "      <td>11</td>\n",
              "      <td>2015</td>\n",
              "      <td>0</td>\n",
              "      <td>1</td>\n",
              "      <td>1</td>\n",
              "      <td>1</td>\n",
              "      <td>1</td>\n",
              "      <td>0</td>\n",
              "    </tr>\n",
              "    <tr>\n",
              "      <th>4</th>\n",
              "      <td>poor</td>\n",
              "      <td>tough</td>\n",
              "      <td>middle</td>\n",
              "      <td>away</td>\n",
              "      <td>0</td>\n",
              "      <td>active</td>\n",
              "      <td>win</td>\n",
              "      <td>21</td>\n",
              "      <td>11</td>\n",
              "      <td>2015</td>\n",
              "      <td>1</td>\n",
              "      <td>0</td>\n",
              "      <td>1</td>\n",
              "      <td>1</td>\n",
              "      <td>2</td>\n",
              "      <td>0</td>\n",
              "    </tr>\n",
              "  </tbody>\n",
              "</table>\n",
              "</div>"
            ],
            "text/plain": [
              "   form opposition  season venue  previous_match    uefa outcome  day  month  \\\n",
              "0  poor      tough   early  away               0  active  no_win   17     10   \n",
              "1  poor     medium   early  home               0  active  no_win   25     10   \n",
              "2  poor     medium   early  away               0  active     win   31     10   \n",
              "3  poor     medium  middle  home               1  active  no_win    8     11   \n",
              "4  poor      tough  middle  away               0  active     win   21     11   \n",
              "\n",
              "   year  result  ground  foreign_league  time  difficulty  current_form  \n",
              "0  2015       0       0               1     0           2             0  \n",
              "1  2015       0       1               1     0           1             0  \n",
              "2  2015       1       0               1     0           1             0  \n",
              "3  2015       0       1               1     1           1             0  \n",
              "4  2015       1       0               1     1           2             0  "
            ]
          },
          "execution_count": 77,
          "metadata": {},
          "output_type": "execute_result"
        }
      ],
      "source": [
        "data3 = data2.copy()\n",
        "data3.head()"
      ]
    },
    {
      "cell_type": "code",
      "execution_count": 78,
      "id": "6b317ee3",
      "metadata": {
        "id": "6b317ee3"
      },
      "outputs": [],
      "source": [
        "y = data3['result']\n",
        "data3 = data3.drop(['result','outcome','year','venue','uefa','season','opposition','form'],axis=1)"
      ]
    },
    {
      "cell_type": "code",
      "execution_count": 79,
      "id": "60d53196",
      "metadata": {
        "id": "60d53196",
        "outputId": "cbee39f6-27c8-4525-8db0-f60aa0ff6229"
      },
      "outputs": [
        {
          "data": {
            "text/html": [
              "<div>\n",
              "<style scoped>\n",
              "    .dataframe tbody tr th:only-of-type {\n",
              "        vertical-align: middle;\n",
              "    }\n",
              "\n",
              "    .dataframe tbody tr th {\n",
              "        vertical-align: top;\n",
              "    }\n",
              "\n",
              "    .dataframe thead th {\n",
              "        text-align: right;\n",
              "    }\n",
              "</style>\n",
              "<table border=\"1\" class=\"dataframe\">\n",
              "  <thead>\n",
              "    <tr style=\"text-align: right;\">\n",
              "      <th></th>\n",
              "      <th>previous_match</th>\n",
              "      <th>day</th>\n",
              "      <th>month</th>\n",
              "      <th>ground</th>\n",
              "      <th>foreign_league</th>\n",
              "      <th>time</th>\n",
              "      <th>difficulty</th>\n",
              "      <th>current_form</th>\n",
              "    </tr>\n",
              "  </thead>\n",
              "  <tbody>\n",
              "    <tr>\n",
              "      <th>0</th>\n",
              "      <td>0</td>\n",
              "      <td>17</td>\n",
              "      <td>10</td>\n",
              "      <td>0</td>\n",
              "      <td>1</td>\n",
              "      <td>0</td>\n",
              "      <td>2</td>\n",
              "      <td>0</td>\n",
              "    </tr>\n",
              "    <tr>\n",
              "      <th>1</th>\n",
              "      <td>0</td>\n",
              "      <td>25</td>\n",
              "      <td>10</td>\n",
              "      <td>1</td>\n",
              "      <td>1</td>\n",
              "      <td>0</td>\n",
              "      <td>1</td>\n",
              "      <td>0</td>\n",
              "    </tr>\n",
              "    <tr>\n",
              "      <th>2</th>\n",
              "      <td>0</td>\n",
              "      <td>31</td>\n",
              "      <td>10</td>\n",
              "      <td>0</td>\n",
              "      <td>1</td>\n",
              "      <td>0</td>\n",
              "      <td>1</td>\n",
              "      <td>0</td>\n",
              "    </tr>\n",
              "    <tr>\n",
              "      <th>3</th>\n",
              "      <td>1</td>\n",
              "      <td>8</td>\n",
              "      <td>11</td>\n",
              "      <td>1</td>\n",
              "      <td>1</td>\n",
              "      <td>1</td>\n",
              "      <td>1</td>\n",
              "      <td>0</td>\n",
              "    </tr>\n",
              "    <tr>\n",
              "      <th>4</th>\n",
              "      <td>0</td>\n",
              "      <td>21</td>\n",
              "      <td>11</td>\n",
              "      <td>0</td>\n",
              "      <td>1</td>\n",
              "      <td>1</td>\n",
              "      <td>2</td>\n",
              "      <td>0</td>\n",
              "    </tr>\n",
              "    <tr>\n",
              "      <th>...</th>\n",
              "      <td>...</td>\n",
              "      <td>...</td>\n",
              "      <td>...</td>\n",
              "      <td>...</td>\n",
              "      <td>...</td>\n",
              "      <td>...</td>\n",
              "      <td>...</td>\n",
              "      <td>...</td>\n",
              "    </tr>\n",
              "    <tr>\n",
              "      <th>252</th>\n",
              "      <td>1</td>\n",
              "      <td>30</td>\n",
              "      <td>4</td>\n",
              "      <td>0</td>\n",
              "      <td>1</td>\n",
              "      <td>2</td>\n",
              "      <td>1</td>\n",
              "      <td>2</td>\n",
              "    </tr>\n",
              "    <tr>\n",
              "      <th>253</th>\n",
              "      <td>1</td>\n",
              "      <td>7</td>\n",
              "      <td>5</td>\n",
              "      <td>1</td>\n",
              "      <td>1</td>\n",
              "      <td>2</td>\n",
              "      <td>2</td>\n",
              "      <td>2</td>\n",
              "    </tr>\n",
              "    <tr>\n",
              "      <th>254</th>\n",
              "      <td>0</td>\n",
              "      <td>10</td>\n",
              "      <td>5</td>\n",
              "      <td>0</td>\n",
              "      <td>1</td>\n",
              "      <td>2</td>\n",
              "      <td>0</td>\n",
              "      <td>2</td>\n",
              "    </tr>\n",
              "    <tr>\n",
              "      <th>255</th>\n",
              "      <td>1</td>\n",
              "      <td>17</td>\n",
              "      <td>5</td>\n",
              "      <td>0</td>\n",
              "      <td>1</td>\n",
              "      <td>2</td>\n",
              "      <td>0</td>\n",
              "      <td>2</td>\n",
              "    </tr>\n",
              "    <tr>\n",
              "      <th>256</th>\n",
              "      <td>1</td>\n",
              "      <td>22</td>\n",
              "      <td>5</td>\n",
              "      <td>1</td>\n",
              "      <td>1</td>\n",
              "      <td>2</td>\n",
              "      <td>1</td>\n",
              "      <td>2</td>\n",
              "    </tr>\n",
              "  </tbody>\n",
              "</table>\n",
              "<p>257 rows × 8 columns</p>\n",
              "</div>"
            ],
            "text/plain": [
              "     previous_match  day  month  ground  foreign_league  time  difficulty  \\\n",
              "0                 0   17     10       0               1     0           2   \n",
              "1                 0   25     10       1               1     0           1   \n",
              "2                 0   31     10       0               1     0           1   \n",
              "3                 1    8     11       1               1     1           1   \n",
              "4                 0   21     11       0               1     1           2   \n",
              "..              ...  ...    ...     ...             ...   ...         ...   \n",
              "252               1   30      4       0               1     2           1   \n",
              "253               1    7      5       1               1     2           2   \n",
              "254               0   10      5       0               1     2           0   \n",
              "255               1   17      5       0               1     2           0   \n",
              "256               1   22      5       1               1     2           1   \n",
              "\n",
              "     current_form  \n",
              "0               0  \n",
              "1               0  \n",
              "2               0  \n",
              "3               0  \n",
              "4               0  \n",
              "..            ...  \n",
              "252             2  \n",
              "253             2  \n",
              "254             2  \n",
              "255             2  \n",
              "256             2  \n",
              "\n",
              "[257 rows x 8 columns]"
            ]
          },
          "execution_count": 79,
          "metadata": {},
          "output_type": "execute_result"
        }
      ],
      "source": [
        "data3"
      ]
    },
    {
      "cell_type": "code",
      "execution_count": 80,
      "id": "9cbd7468",
      "metadata": {
        "id": "9cbd7468"
      },
      "outputs": [],
      "source": [
        "sm = SMOTE(random_state=42)\n",
        "data3, y = sm.fit_resample(data3, y)"
      ]
    },
    {
      "cell_type": "code",
      "execution_count": 81,
      "id": "920bfc52",
      "metadata": {},
      "outputs": [
        {
          "data": {
            "text/plain": [
              "result\n",
              "0    164\n",
              "1    164\n",
              "Name: count, dtype: int64"
            ]
          },
          "execution_count": 81,
          "metadata": {},
          "output_type": "execute_result"
        }
      ],
      "source": [
        "pd.Series(y).value_counts()"
      ]
    },
    {
      "cell_type": "code",
      "execution_count": 82,
      "id": "3a00ada8",
      "metadata": {},
      "outputs": [],
      "source": [
        "categorical = data3.select_dtypes(include= [\"object\"]).columns\n",
        "numerical = data3.select_dtypes(include=np.number).columns"
      ]
    },
    {
      "cell_type": "markdown",
      "id": "e5108879",
      "metadata": {
        "id": "e5108879"
      },
      "source": [
        "#### Splitting the data."
      ]
    },
    {
      "cell_type": "code",
      "execution_count": 83,
      "id": "4be7371b",
      "metadata": {
        "colab": {
          "base_uri": "https://localhost:8080/"
        },
        "id": "4be7371b",
        "outputId": "d5b63068-2ac4-42ea-e331-5ccdfeb937b0"
      },
      "outputs": [
        {
          "name": "stdout",
          "output_type": "stream",
          "text": [
            "(262, 8)   (66, 8)\n"
          ]
        }
      ],
      "source": [
        "train_data, test_data, y_train_data, y_test = train_test_split(data3, y, test_size = 0.2, random_state=30)\n",
        "print(train_data.shape,' ', test_data.shape)"
      ]
    },
    {
      "cell_type": "code",
      "execution_count": 84,
      "id": "87e31fd9",
      "metadata": {
        "id": "87e31fd9",
        "outputId": "bb0b89a6-f29f-498b-f7f3-9a2ce104bd22"
      },
      "outputs": [
        {
          "name": "stdout",
          "output_type": "stream",
          "text": [
            "(196, 8)   (66, 8)\n"
          ]
        }
      ],
      "source": [
        "train, val, y_train, y_val = train_test_split(train_data, y_train_data, test_size = 0.25, random_state=11)\n",
        "print(train.shape,' ', val.shape)\n",
        "\n",
        "train = train.reset_index(drop=True)\n",
        "train_data = train_data.reset_index(drop=True)\n",
        "test_data = test_data.reset_index(drop=True)\n",
        "val = val.reset_index(drop=True)"
      ]
    },
    {
      "cell_type": "code",
      "execution_count": 85,
      "id": "bca86981",
      "metadata": {},
      "outputs": [],
      "source": [
        "# separate majority and minority classes\n",
        "n_majority = y_train.value_counts()[1]\n",
        "n_minority = y_train.value_counts()[0]\n",
        "N_majority = y_train_data.value_counts()[1]\n",
        "N_minority = y_train_data.value_counts()[0]\n",
        "\n",
        "\n",
        "# apply SMOTE to minority class\n",
        "sm = SMOTE(sampling_strategy={1:n_majority},random_state=10)\n",
        "train1, y_train1 = sm.fit_resample(train, y_train)\n",
        "SM = SMOTE(sampling_strategy={1:N_majority},random_state=10)\n",
        "train_data1, y_train_data1 = SM.fit_resample(train_data, y_train_data)\n",
        "\n",
        "# downsample the majority class\n",
        "train2 = train1[y_train1==0][:n_minority]\n",
        "y_train2 = y_train1[y_train1==0][:n_minority]\n",
        "train_data2 = train_data1[y_train_data1==0][:N_minority]\n",
        "y_train_data2 = y_train_data1[y_train_data1==0][:N_minority]\n",
        "\n",
        "# combine the downsampled majority class with the oversampled minority class\n",
        "train = pd.DataFrame(np.concatenate((train2, train1[y_train1==1]), axis=0), columns=train.columns)\n",
        "y_train = pd.DataFrame(np.concatenate((y_train2, y_train1[y_train1==1]), axis=0))\n",
        "train_data = pd.DataFrame(np.concatenate((train_data2, train_data1[y_train_data1==1]), axis=0), columns=train_data.columns)\n",
        "y_train_data = pd.DataFrame(np.concatenate((y_train_data2, y_train_data1[y_train_data1==1]), axis=0))"
      ]
    },
    {
      "cell_type": "code",
      "execution_count": 86,
      "id": "329173f1",
      "metadata": {
        "colab": {
          "base_uri": "https://localhost:8080/",
          "height": 305
        },
        "id": "329173f1",
        "outputId": "81f0ede2-8cb0-4da9-969a-9a2ccf95042e"
      },
      "outputs": [
        {
          "data": {
            "text/html": [
              "<div>\n",
              "<style scoped>\n",
              "    .dataframe tbody tr th:only-of-type {\n",
              "        vertical-align: middle;\n",
              "    }\n",
              "\n",
              "    .dataframe tbody tr th {\n",
              "        vertical-align: top;\n",
              "    }\n",
              "\n",
              "    .dataframe thead th {\n",
              "        text-align: right;\n",
              "    }\n",
              "</style>\n",
              "<table border=\"1\" class=\"dataframe\">\n",
              "  <thead>\n",
              "    <tr style=\"text-align: right;\">\n",
              "      <th></th>\n",
              "      <th>previous_match</th>\n",
              "      <th>day</th>\n",
              "      <th>month</th>\n",
              "      <th>ground</th>\n",
              "      <th>foreign_league</th>\n",
              "      <th>time</th>\n",
              "      <th>difficulty</th>\n",
              "      <th>current_form</th>\n",
              "    </tr>\n",
              "  </thead>\n",
              "  <tbody>\n",
              "    <tr>\n",
              "      <th>0</th>\n",
              "      <td>0</td>\n",
              "      <td>25</td>\n",
              "      <td>10</td>\n",
              "      <td>1</td>\n",
              "      <td>1</td>\n",
              "      <td>0</td>\n",
              "      <td>1</td>\n",
              "      <td>0</td>\n",
              "    </tr>\n",
              "    <tr>\n",
              "      <th>1</th>\n",
              "      <td>1</td>\n",
              "      <td>10</td>\n",
              "      <td>4</td>\n",
              "      <td>0</td>\n",
              "      <td>1</td>\n",
              "      <td>2</td>\n",
              "      <td>2</td>\n",
              "      <td>2</td>\n",
              "    </tr>\n",
              "    <tr>\n",
              "      <th>2</th>\n",
              "      <td>1</td>\n",
              "      <td>28</td>\n",
              "      <td>11</td>\n",
              "      <td>0</td>\n",
              "      <td>1</td>\n",
              "      <td>0</td>\n",
              "      <td>0</td>\n",
              "      <td>1</td>\n",
              "    </tr>\n",
              "    <tr>\n",
              "      <th>3</th>\n",
              "      <td>0</td>\n",
              "      <td>30</td>\n",
              "      <td>12</td>\n",
              "      <td>0</td>\n",
              "      <td>1</td>\n",
              "      <td>1</td>\n",
              "      <td>0</td>\n",
              "      <td>1</td>\n",
              "    </tr>\n",
              "    <tr>\n",
              "      <th>4</th>\n",
              "      <td>0</td>\n",
              "      <td>18</td>\n",
              "      <td>2</td>\n",
              "      <td>0</td>\n",
              "      <td>0</td>\n",
              "      <td>1</td>\n",
              "      <td>2</td>\n",
              "      <td>0</td>\n",
              "    </tr>\n",
              "    <tr>\n",
              "      <th>...</th>\n",
              "      <td>...</td>\n",
              "      <td>...</td>\n",
              "      <td>...</td>\n",
              "      <td>...</td>\n",
              "      <td>...</td>\n",
              "      <td>...</td>\n",
              "      <td>...</td>\n",
              "      <td>...</td>\n",
              "    </tr>\n",
              "    <tr>\n",
              "      <th>257</th>\n",
              "      <td>1</td>\n",
              "      <td>8</td>\n",
              "      <td>7</td>\n",
              "      <td>0</td>\n",
              "      <td>0</td>\n",
              "      <td>2</td>\n",
              "      <td>0</td>\n",
              "      <td>1</td>\n",
              "    </tr>\n",
              "    <tr>\n",
              "      <th>258</th>\n",
              "      <td>0</td>\n",
              "      <td>9</td>\n",
              "      <td>2</td>\n",
              "      <td>1</td>\n",
              "      <td>1</td>\n",
              "      <td>1</td>\n",
              "      <td>1</td>\n",
              "      <td>0</td>\n",
              "    </tr>\n",
              "    <tr>\n",
              "      <th>259</th>\n",
              "      <td>1</td>\n",
              "      <td>17</td>\n",
              "      <td>8</td>\n",
              "      <td>0</td>\n",
              "      <td>1</td>\n",
              "      <td>0</td>\n",
              "      <td>0</td>\n",
              "      <td>2</td>\n",
              "    </tr>\n",
              "    <tr>\n",
              "      <th>260</th>\n",
              "      <td>1</td>\n",
              "      <td>24</td>\n",
              "      <td>4</td>\n",
              "      <td>1</td>\n",
              "      <td>1</td>\n",
              "      <td>2</td>\n",
              "      <td>0</td>\n",
              "      <td>2</td>\n",
              "    </tr>\n",
              "    <tr>\n",
              "      <th>261</th>\n",
              "      <td>1</td>\n",
              "      <td>21</td>\n",
              "      <td>4</td>\n",
              "      <td>0</td>\n",
              "      <td>1</td>\n",
              "      <td>2</td>\n",
              "      <td>0</td>\n",
              "      <td>2</td>\n",
              "    </tr>\n",
              "  </tbody>\n",
              "</table>\n",
              "<p>262 rows × 8 columns</p>\n",
              "</div>"
            ],
            "text/plain": [
              "     previous_match  day  month  ground  foreign_league  time  difficulty  \\\n",
              "0                 0   25     10       1               1     0           1   \n",
              "1                 1   10      4       0               1     2           2   \n",
              "2                 1   28     11       0               1     0           0   \n",
              "3                 0   30     12       0               1     1           0   \n",
              "4                 0   18      2       0               0     1           2   \n",
              "..              ...  ...    ...     ...             ...   ...         ...   \n",
              "257               1    8      7       0               0     2           0   \n",
              "258               0    9      2       1               1     1           1   \n",
              "259               1   17      8       0               1     0           0   \n",
              "260               1   24      4       1               1     2           0   \n",
              "261               1   21      4       0               1     2           0   \n",
              "\n",
              "     current_form  \n",
              "0               0  \n",
              "1               2  \n",
              "2               1  \n",
              "3               1  \n",
              "4               0  \n",
              "..            ...  \n",
              "257             1  \n",
              "258             0  \n",
              "259             2  \n",
              "260             2  \n",
              "261             2  \n",
              "\n",
              "[262 rows x 8 columns]"
            ]
          },
          "execution_count": 86,
          "metadata": {},
          "output_type": "execute_result"
        }
      ],
      "source": [
        "train_data"
      ]
    },
    {
      "cell_type": "markdown",
      "id": "8471b961",
      "metadata": {
        "id": "8471b961"
      },
      "source": [
        "### Pre-modeling."
      ]
    },
    {
      "cell_type": "code",
      "execution_count": 87,
      "id": "ca95c87d",
      "metadata": {},
      "outputs": [
        {
          "data": {
            "text/html": [
              "<div>\n",
              "<style scoped>\n",
              "    .dataframe tbody tr th:only-of-type {\n",
              "        vertical-align: middle;\n",
              "    }\n",
              "\n",
              "    .dataframe tbody tr th {\n",
              "        vertical-align: top;\n",
              "    }\n",
              "\n",
              "    .dataframe thead th {\n",
              "        text-align: right;\n",
              "    }\n",
              "</style>\n",
              "<table border=\"1\" class=\"dataframe\">\n",
              "  <thead>\n",
              "    <tr style=\"text-align: right;\">\n",
              "      <th></th>\n",
              "      <th>previous_match</th>\n",
              "      <th>day</th>\n",
              "      <th>month</th>\n",
              "      <th>ground</th>\n",
              "      <th>foreign_league</th>\n",
              "      <th>time</th>\n",
              "      <th>difficulty</th>\n",
              "      <th>current_form</th>\n",
              "    </tr>\n",
              "  </thead>\n",
              "  <tbody>\n",
              "    <tr>\n",
              "      <th>0</th>\n",
              "      <td>0</td>\n",
              "      <td>25</td>\n",
              "      <td>10</td>\n",
              "      <td>1</td>\n",
              "      <td>1</td>\n",
              "      <td>0</td>\n",
              "      <td>1</td>\n",
              "      <td>0</td>\n",
              "    </tr>\n",
              "    <tr>\n",
              "      <th>1</th>\n",
              "      <td>1</td>\n",
              "      <td>10</td>\n",
              "      <td>4</td>\n",
              "      <td>0</td>\n",
              "      <td>1</td>\n",
              "      <td>2</td>\n",
              "      <td>2</td>\n",
              "      <td>2</td>\n",
              "    </tr>\n",
              "    <tr>\n",
              "      <th>2</th>\n",
              "      <td>1</td>\n",
              "      <td>28</td>\n",
              "      <td>11</td>\n",
              "      <td>0</td>\n",
              "      <td>1</td>\n",
              "      <td>0</td>\n",
              "      <td>0</td>\n",
              "      <td>1</td>\n",
              "    </tr>\n",
              "    <tr>\n",
              "      <th>3</th>\n",
              "      <td>0</td>\n",
              "      <td>30</td>\n",
              "      <td>12</td>\n",
              "      <td>0</td>\n",
              "      <td>1</td>\n",
              "      <td>1</td>\n",
              "      <td>0</td>\n",
              "      <td>1</td>\n",
              "    </tr>\n",
              "    <tr>\n",
              "      <th>4</th>\n",
              "      <td>0</td>\n",
              "      <td>18</td>\n",
              "      <td>2</td>\n",
              "      <td>0</td>\n",
              "      <td>0</td>\n",
              "      <td>1</td>\n",
              "      <td>2</td>\n",
              "      <td>0</td>\n",
              "    </tr>\n",
              "  </tbody>\n",
              "</table>\n",
              "</div>"
            ],
            "text/plain": [
              "   previous_match  day  month  ground  foreign_league  time  difficulty  \\\n",
              "0               0   25     10       1               1     0           1   \n",
              "1               1   10      4       0               1     2           2   \n",
              "2               1   28     11       0               1     0           0   \n",
              "3               0   30     12       0               1     1           0   \n",
              "4               0   18      2       0               0     1           2   \n",
              "\n",
              "   current_form  \n",
              "0             0  \n",
              "1             2  \n",
              "2             1  \n",
              "3             1  \n",
              "4             0  "
            ]
          },
          "execution_count": 87,
          "metadata": {},
          "output_type": "execute_result"
        }
      ],
      "source": [
        "train_data.head()"
      ]
    },
    {
      "cell_type": "code",
      "execution_count": 88,
      "id": "888a1217",
      "metadata": {
        "id": "888a1217"
      },
      "outputs": [],
      "source": [
        "dict_train = train.to_dict(orient='records')\n",
        "dict_val = val.to_dict(orient='records')\n",
        "Dict_Train = train_data.to_dict(orient='records')\n",
        "Dict_Test = test_data.to_dict(orient='records')\n",
        "dv = DictVectorizer(sparse=False)\n",
        "\n",
        "x_train = dv.fit_transform(dict_train)\n",
        "x_val = dv.transform(dict_val)\n",
        "X_Train = dv.fit_transform(Dict_Train)\n",
        "X_Test = dv.transform(Dict_Test)"
      ]
    },
    {
      "cell_type": "code",
      "execution_count": 89,
      "id": "d821ebeb",
      "metadata": {},
      "outputs": [
        {
          "data": {
            "text/html": [
              "<div>\n",
              "<style scoped>\n",
              "    .dataframe tbody tr th:only-of-type {\n",
              "        vertical-align: middle;\n",
              "    }\n",
              "\n",
              "    .dataframe tbody tr th {\n",
              "        vertical-align: top;\n",
              "    }\n",
              "\n",
              "    .dataframe thead th {\n",
              "        text-align: right;\n",
              "    }\n",
              "</style>\n",
              "<table border=\"1\" class=\"dataframe\">\n",
              "  <thead>\n",
              "    <tr style=\"text-align: right;\">\n",
              "      <th></th>\n",
              "      <th>previous_match</th>\n",
              "      <th>day</th>\n",
              "      <th>month</th>\n",
              "      <th>ground</th>\n",
              "      <th>foreign_league</th>\n",
              "      <th>time</th>\n",
              "      <th>difficulty</th>\n",
              "      <th>current_form</th>\n",
              "    </tr>\n",
              "  </thead>\n",
              "  <tbody>\n",
              "    <tr>\n",
              "      <th>0</th>\n",
              "      <td>1</td>\n",
              "      <td>9</td>\n",
              "      <td>9</td>\n",
              "      <td>0</td>\n",
              "      <td>1</td>\n",
              "      <td>0</td>\n",
              "      <td>1</td>\n",
              "      <td>1</td>\n",
              "    </tr>\n",
              "    <tr>\n",
              "      <th>1</th>\n",
              "      <td>1</td>\n",
              "      <td>6</td>\n",
              "      <td>12</td>\n",
              "      <td>0</td>\n",
              "      <td>1</td>\n",
              "      <td>1</td>\n",
              "      <td>0</td>\n",
              "      <td>1</td>\n",
              "    </tr>\n",
              "    <tr>\n",
              "      <th>2</th>\n",
              "      <td>0</td>\n",
              "      <td>27</td>\n",
              "      <td>12</td>\n",
              "      <td>0</td>\n",
              "      <td>1</td>\n",
              "      <td>1</td>\n",
              "      <td>0</td>\n",
              "      <td>1</td>\n",
              "    </tr>\n",
              "    <tr>\n",
              "      <th>3</th>\n",
              "      <td>0</td>\n",
              "      <td>4</td>\n",
              "      <td>3</td>\n",
              "      <td>1</td>\n",
              "      <td>1</td>\n",
              "      <td>1</td>\n",
              "      <td>2</td>\n",
              "      <td>0</td>\n",
              "    </tr>\n",
              "    <tr>\n",
              "      <th>4</th>\n",
              "      <td>0</td>\n",
              "      <td>25</td>\n",
              "      <td>10</td>\n",
              "      <td>1</td>\n",
              "      <td>1</td>\n",
              "      <td>0</td>\n",
              "      <td>1</td>\n",
              "      <td>0</td>\n",
              "    </tr>\n",
              "    <tr>\n",
              "      <th>...</th>\n",
              "      <td>...</td>\n",
              "      <td>...</td>\n",
              "      <td>...</td>\n",
              "      <td>...</td>\n",
              "      <td>...</td>\n",
              "      <td>...</td>\n",
              "      <td>...</td>\n",
              "      <td>...</td>\n",
              "    </tr>\n",
              "    <tr>\n",
              "      <th>191</th>\n",
              "      <td>1</td>\n",
              "      <td>26</td>\n",
              "      <td>12</td>\n",
              "      <td>1</td>\n",
              "      <td>1</td>\n",
              "      <td>1</td>\n",
              "      <td>0</td>\n",
              "      <td>2</td>\n",
              "    </tr>\n",
              "    <tr>\n",
              "      <th>192</th>\n",
              "      <td>1</td>\n",
              "      <td>8</td>\n",
              "      <td>7</td>\n",
              "      <td>0</td>\n",
              "      <td>0</td>\n",
              "      <td>2</td>\n",
              "      <td>0</td>\n",
              "      <td>1</td>\n",
              "    </tr>\n",
              "    <tr>\n",
              "      <th>193</th>\n",
              "      <td>1</td>\n",
              "      <td>26</td>\n",
              "      <td>4</td>\n",
              "      <td>1</td>\n",
              "      <td>1</td>\n",
              "      <td>2</td>\n",
              "      <td>0</td>\n",
              "      <td>2</td>\n",
              "    </tr>\n",
              "    <tr>\n",
              "      <th>194</th>\n",
              "      <td>1</td>\n",
              "      <td>5</td>\n",
              "      <td>4</td>\n",
              "      <td>0</td>\n",
              "      <td>1</td>\n",
              "      <td>2</td>\n",
              "      <td>0</td>\n",
              "      <td>2</td>\n",
              "    </tr>\n",
              "    <tr>\n",
              "      <th>195</th>\n",
              "      <td>1</td>\n",
              "      <td>14</td>\n",
              "      <td>8</td>\n",
              "      <td>0</td>\n",
              "      <td>1</td>\n",
              "      <td>0</td>\n",
              "      <td>0</td>\n",
              "      <td>2</td>\n",
              "    </tr>\n",
              "  </tbody>\n",
              "</table>\n",
              "<p>196 rows × 8 columns</p>\n",
              "</div>"
            ],
            "text/plain": [
              "     previous_match  day  month  ground  foreign_league  time  difficulty  \\\n",
              "0                 1    9      9       0               1     0           1   \n",
              "1                 1    6     12       0               1     1           0   \n",
              "2                 0   27     12       0               1     1           0   \n",
              "3                 0    4      3       1               1     1           2   \n",
              "4                 0   25     10       1               1     0           1   \n",
              "..              ...  ...    ...     ...             ...   ...         ...   \n",
              "191               1   26     12       1               1     1           0   \n",
              "192               1    8      7       0               0     2           0   \n",
              "193               1   26      4       1               1     2           0   \n",
              "194               1    5      4       0               1     2           0   \n",
              "195               1   14      8       0               1     0           0   \n",
              "\n",
              "     current_form  \n",
              "0               1  \n",
              "1               1  \n",
              "2               1  \n",
              "3               0  \n",
              "4               0  \n",
              "..            ...  \n",
              "191             2  \n",
              "192             1  \n",
              "193             2  \n",
              "194             2  \n",
              "195             2  \n",
              "\n",
              "[196 rows x 8 columns]"
            ]
          },
          "execution_count": 89,
          "metadata": {},
          "output_type": "execute_result"
        }
      ],
      "source": [
        "train"
      ]
    },
    {
      "cell_type": "markdown",
      "id": "dcc74a9d",
      "metadata": {
        "id": "dcc74a9d"
      },
      "source": [
        "### Modeling."
      ]
    },
    {
      "cell_type": "markdown",
      "id": "76728e85",
      "metadata": {
        "id": "76728e85"
      },
      "source": [
        "##### Decision Tree"
      ]
    },
    {
      "cell_type": "code",
      "execution_count": 90,
      "id": "96b34bdd",
      "metadata": {
        "id": "96b34bdd",
        "outputId": "3cc9453f-dca4-4d4f-b715-276021886d8f"
      },
      "outputs": [
        {
          "name": "stdout",
          "output_type": "stream",
          "text": [
            "Training-set accuracy score: 0.9949\n",
            "Test Model accuracy score: 0.6818\n",
            "[1 0 0 0 0 1 0 1 0 0]\n",
            "Precision:  0.71\n",
            "Recall:  0.61\n"
          ]
        }
      ],
      "source": [
        "dt = DecisionTreeClassifier()\n",
        "dt.fit(x_train, y_train)\n",
        "\n",
        "\n",
        "y_pred_train = dt.predict(x_train)\n",
        "print('Training-set accuracy score: {0:0.4f}'. format(accuracy_score(y_train, y_pred_train)))\n",
        "\n",
        "\n",
        "y_pred = dt.predict(x_val)\n",
        "print('Test Model accuracy score: {0:0.4f}'. format(accuracy_score(y_val, y_pred)))\n",
        "\n",
        "\n",
        "\n",
        "print(y_pred[0:10])\n",
        "accuracy_score(y_val,y_pred)*100\n",
        "precision = round(precision_score(y_val, y_pred),2)\n",
        "recall = round(recall_score(y_val, y_pred),2)\n",
        "print('Precision: ',precision)\n",
        "print('Recall: ',recall)"
      ]
    },
    {
      "cell_type": "markdown",
      "id": "aefc3da6",
      "metadata": {
        "id": "aefc3da6"
      },
      "source": [
        "##### Naive-Bayes"
      ]
    },
    {
      "cell_type": "code",
      "execution_count": 91,
      "id": "657229be",
      "metadata": {
        "id": "657229be",
        "outputId": "eda399c3-7024-4360-a2ec-ff76116c50c0"
      },
      "outputs": [
        {
          "name": "stdout",
          "output_type": "stream",
          "text": [
            "Training-set accuracy score: 0.5306\n",
            "Test Model accuracy score: 0.6364\n",
            "[0 0 0 0 0 0 0 1 1 1]\n",
            "Accuracy:  63.64 %\n",
            "Precision:  0.67\n",
            "Recall:  0.55\n"
          ]
        }
      ],
      "source": [
        "gnb = GaussianNB()\n",
        "\n",
        "\n",
        "gnb.fit(x_train, y_train)\n",
        "\n",
        "\n",
        "y_pred_train = gnb.predict(train)\n",
        "print('Training-set accuracy score: {0:0.4f}'. format(accuracy_score(y_train, y_pred_train)))\n",
        "\n",
        "\n",
        "y_pred = gnb.predict(x_val)\n",
        "print('Test Model accuracy score: {0:0.4f}'. format(accuracy_score(y_val, y_pred)))\n",
        "\n",
        "\n",
        "print(y_pred[0:10])\n",
        "\n",
        "\n",
        "print('Accuracy: ',round(accuracy_score(y_val,y_pred)*100,2),'%')\n",
        "precision = round(precision_score(y_val, y_pred),2)\n",
        "recall = round(recall_score(y_val, y_pred),2)\n",
        "print('Precision: ',precision)\n",
        "print('Recall: ',recall)"
      ]
    },
    {
      "cell_type": "markdown",
      "id": "6db61e49",
      "metadata": {
        "id": "6db61e49"
      },
      "source": [
        "##### XGBOOST"
      ]
    },
    {
      "cell_type": "code",
      "execution_count": 92,
      "metadata": {},
      "outputs": [
        {
          "name": "stderr",
          "output_type": "stream",
          "text": [
            "[I 2023-07-30 11:41:00,074] A new study created in memory with name: no-name-2f30aff8-22ba-4977-b8c6-7613074e9cc1\n",
            "[I 2023-07-30 11:41:00,180] Trial 0 finished with value: 0.696969696969697 and parameters: {'max_depth': 8, 'learning_rate': 0.06857902745270834, 'subsample': 0.6495606065262975, 'colsample_bytree': 0.8464151045077712}. Best is trial 0 with value: 0.696969696969697.\n",
            "[I 2023-07-30 11:41:00,231] Trial 1 finished with value: 0.6818181818181818 and parameters: {'max_depth': 3, 'learning_rate': 0.061113090843441284, 'subsample': 0.745962659432742, 'colsample_bytree': 0.6175328527219531}. Best is trial 0 with value: 0.696969696969697.\n",
            "[I 2023-07-30 11:41:00,292] Trial 2 finished with value: 0.696969696969697 and parameters: {'max_depth': 8, 'learning_rate': 0.09215213054502608, 'subsample': 0.7657043543345898, 'colsample_bytree': 0.6489573869304143}. Best is trial 0 with value: 0.696969696969697.\n",
            "[I 2023-07-30 11:41:00,360] Trial 3 finished with value: 0.696969696969697 and parameters: {'max_depth': 6, 'learning_rate': 0.04629703829879722, 'subsample': 0.6448596814582, 'colsample_bytree': 0.7799514106715202}. Best is trial 0 with value: 0.696969696969697.\n",
            "[I 2023-07-30 11:41:00,420] Trial 4 finished with value: 0.696969696969697 and parameters: {'max_depth': 9, 'learning_rate': 0.08755960199486962, 'subsample': 0.7390442639781628, 'colsample_bytree': 0.6670227512744628}. Best is trial 0 with value: 0.696969696969697.\n",
            "[I 2023-07-30 11:41:00,475] Trial 5 finished with value: 0.7272727272727273 and parameters: {'max_depth': 7, 'learning_rate': 0.09840464902728532, 'subsample': 0.6800126561486163, 'colsample_bytree': 0.7505524548132243}. Best is trial 5 with value: 0.7272727272727273.\n",
            "[I 2023-07-30 11:41:00,516] Trial 6 finished with value: 0.6515151515151515 and parameters: {'max_depth': 3, 'learning_rate': 0.029861502445992304, 'subsample': 0.7859195466614048, 'colsample_bytree': 0.6420277674839852}. Best is trial 5 with value: 0.7272727272727273.\n",
            "[I 2023-07-30 11:41:00,607] Trial 7 finished with value: 0.696969696969697 and parameters: {'max_depth': 7, 'learning_rate': 0.06413872116129601, 'subsample': 0.6810062570584103, 'colsample_bytree': 0.8329927474636287}. Best is trial 5 with value: 0.7272727272727273.\n",
            "[I 2023-07-30 11:41:00,661] Trial 8 finished with value: 0.6818181818181818 and parameters: {'max_depth': 4, 'learning_rate': 0.05831967687416486, 'subsample': 0.809782005423689, 'colsample_bytree': 0.8282713939669746}. Best is trial 5 with value: 0.7272727272727273.\n",
            "[I 2023-07-30 11:41:00,726] Trial 9 finished with value: 0.6666666666666666 and parameters: {'max_depth': 9, 'learning_rate': 0.01881358850453145, 'subsample': 0.6237024054832654, 'colsample_bytree': 0.625564656157957}. Best is trial 5 with value: 0.7272727272727273.\n",
            "[I 2023-07-30 11:41:00,816] Trial 10 finished with value: 0.6818181818181818 and parameters: {'max_depth': 5, 'learning_rate': 0.09913421494500656, 'subsample': 0.8774205858816596, 'colsample_bytree': 0.7141443020062203}. Best is trial 5 with value: 0.7272727272727273.\n"
          ]
        },
        {
          "name": "stderr",
          "output_type": "stream",
          "text": [
            "[I 2023-07-30 11:41:00,907] Trial 11 finished with value: 0.7121212121212122 and parameters: {'max_depth': 10, 'learning_rate': 0.07787832119625418, 'subsample': 0.6767527371807277, 'colsample_bytree': 0.7697388018800508}. Best is trial 5 with value: 0.7272727272727273.\n",
            "[I 2023-07-30 11:41:01,011] Trial 12 finished with value: 0.696969696969697 and parameters: {'max_depth': 10, 'learning_rate': 0.08040980670269185, 'subsample': 0.6935333583867669, 'colsample_bytree': 0.7544345259894353}. Best is trial 5 with value: 0.7272727272727273.\n",
            "[I 2023-07-30 11:41:01,088] Trial 13 finished with value: 0.7272727272727273 and parameters: {'max_depth': 10, 'learning_rate': 0.08153338384391606, 'subsample': 0.6051005621781017, 'colsample_bytree': 0.8976489411744503}. Best is trial 5 with value: 0.7272727272727273.\n",
            "[I 2023-07-30 11:41:01,167] Trial 14 finished with value: 0.7121212121212122 and parameters: {'max_depth': 6, 'learning_rate': 0.09847266827410757, 'subsample': 0.6017836317936776, 'colsample_bytree': 0.8986930114977598}. Best is trial 5 with value: 0.7272727272727273.\n",
            "[I 2023-07-30 11:41:01,268] Trial 15 finished with value: 0.6818181818181818 and parameters: {'max_depth': 7, 'learning_rate': 0.08119793651323921, 'subsample': 0.6011051292529836, 'colsample_bytree': 0.7097180659661404}. Best is trial 5 with value: 0.7272727272727273.\n",
            "[I 2023-07-30 11:41:01,358] Trial 16 finished with value: 0.7272727272727273 and parameters: {'max_depth': 8, 'learning_rate': 0.07449030992885913, 'subsample': 0.7092536268302401, 'colsample_bytree': 0.8862513452851807}. Best is trial 5 with value: 0.7272727272727273.\n",
            "[I 2023-07-30 11:41:01,427] Trial 17 finished with value: 0.7121212121212122 and parameters: {'max_depth': 5, 'learning_rate': 0.08801637913258277, 'subsample': 0.6512571171880476, 'colsample_bytree': 0.7877794806795606}. Best is trial 5 with value: 0.7272727272727273.\n",
            "[I 2023-07-30 11:41:01,498] Trial 18 finished with value: 0.7121212121212122 and parameters: {'max_depth': 9, 'learning_rate': 0.09852521038538369, 'subsample': 0.6308541660226656, 'colsample_bytree': 0.7251053389903241}. Best is trial 5 with value: 0.7272727272727273.\n",
            "[I 2023-07-30 11:41:01,577] Trial 19 finished with value: 0.7121212121212122 and parameters: {'max_depth': 10, 'learning_rate': 0.08751329345240948, 'subsample': 0.7167099592715512, 'colsample_bytree': 0.8034693132794415}. Best is trial 5 with value: 0.7272727272727273.\n",
            "[I 2023-07-30 11:41:01,647] Trial 20 finished with value: 0.696969696969697 and parameters: {'max_depth': 5, 'learning_rate': 0.07092523809437698, 'subsample': 0.6756180093604903, 'colsample_bytree': 0.8705425038615164}. Best is trial 5 with value: 0.7272727272727273.\n",
            "[I 2023-07-30 11:41:01,727] Trial 21 finished with value: 0.7121212121212122 and parameters: {'max_depth': 8, 'learning_rate': 0.07344015672900128, 'subsample': 0.7208418944046883, 'colsample_bytree': 0.8892789142558998}. Best is trial 5 with value: 0.7272727272727273.\n",
            "[I 2023-07-30 11:41:01,815] Trial 22 finished with value: 0.7121212121212122 and parameters: {'max_depth': 7, 'learning_rate': 0.07744810937853575, 'subsample': 0.7162612070071948, 'colsample_bytree': 0.8669051135986947}. Best is trial 5 with value: 0.7272727272727273.\n",
            "[I 2023-07-30 11:41:01,905] Trial 23 finished with value: 0.696969696969697 and parameters: {'max_depth': 8, 'learning_rate': 0.08325744294693053, 'subsample': 0.6556913214575474, 'colsample_bytree': 0.8080407609578345}. Best is trial 5 with value: 0.7272727272727273.\n",
            "[I 2023-07-30 11:41:01,987] Trial 24 finished with value: 0.7121212121212122 and parameters: {'max_depth': 9, 'learning_rate': 0.09083715562149569, 'subsample': 0.6979385837351, 'colsample_bytree': 0.8585969140976102}. Best is trial 5 with value: 0.7272727272727273.\n",
            "[I 2023-07-30 11:41:02,072] Trial 25 finished with value: 0.7272727272727273 and parameters: {'max_depth': 6, 'learning_rate': 0.05231756985866107, 'subsample': 0.6193830909152068, 'colsample_bytree': 0.8996998912730645}. Best is trial 5 with value: 0.7272727272727273.\n",
            "[I 2023-07-30 11:41:02,157] Trial 26 finished with value: 0.7424242424242424 and parameters: {'max_depth': 7, 'learning_rate': 0.07334225444728575, 'subsample': 0.66278554032969, 'colsample_bytree': 0.8750821690041807}. Best is trial 26 with value: 0.7424242424242424.\n",
            "[I 2023-07-30 11:41:02,249] Trial 27 finished with value: 0.7424242424242424 and parameters: {'max_depth': 7, 'learning_rate': 0.09233612007483581, 'subsample': 0.6618774417878572, 'colsample_bytree': 0.8388860802394283}. Best is trial 26 with value: 0.7424242424242424.\n",
            "[I 2023-07-30 11:41:02,342] Trial 28 finished with value: 0.7424242424242424 and parameters: {'max_depth': 7, 'learning_rate': 0.09259922097153328, 'subsample': 0.6672669795739603, 'colsample_bytree': 0.8207306638744277}. Best is trial 26 with value: 0.7424242424242424.\n",
            "[I 2023-07-30 11:41:02,431] Trial 29 finished with value: 0.7272727272727273 and parameters: {'max_depth': 6, 'learning_rate': 0.06729493951623222, 'subsample': 0.6555488421466578, 'colsample_bytree': 0.8449545062676435}. Best is trial 26 with value: 0.7424242424242424.\n",
            "[I 2023-07-30 11:41:02,527] Trial 30 finished with value: 0.696969696969697 and parameters: {'max_depth': 7, 'learning_rate': 0.06716878684666212, 'subsample': 0.6365866450258659, 'colsample_bytree': 0.8300786666789955}. Best is trial 26 with value: 0.7424242424242424.\n",
            "[I 2023-07-30 11:41:02,612] Trial 31 finished with value: 0.7272727272727273 and parameters: {'max_depth': 7, 'learning_rate': 0.09349118611067524, 'subsample': 0.6693840958346345, 'colsample_bytree': 0.8124896722499827}. Best is trial 26 with value: 0.7424242424242424.\n",
            "[I 2023-07-30 11:41:02,695] Trial 32 finished with value: 0.7121212121212122 and parameters: {'max_depth': 7, 'learning_rate': 0.09290658662576762, 'subsample': 0.6608262744175326, 'colsample_bytree': 0.8534242056224798}. Best is trial 26 with value: 0.7424242424242424.\n",
            "[I 2023-07-30 11:41:02,778] Trial 33 finished with value: 0.7272727272727273 and parameters: {'max_depth': 6, 'learning_rate': 0.0851652051522455, 'subsample': 0.6917614257561128, 'colsample_bytree': 0.8432942021280075}. Best is trial 26 with value: 0.7424242424242424.\n",
            "[I 2023-07-30 11:41:02,860] Trial 34 finished with value: 0.7121212121212122 and parameters: {'max_depth': 8, 'learning_rate': 0.0936957774629655, 'subsample': 0.6365262753513611, 'colsample_bytree': 0.8770429204077764}. Best is trial 26 with value: 0.7424242424242424.\n",
            "[I 2023-07-30 11:41:02,943] Trial 35 finished with value: 0.7272727272727273 and parameters: {'max_depth': 8, 'learning_rate': 0.08707661105192491, 'subsample': 0.6642277371124439, 'colsample_bytree': 0.8633018436926142}. Best is trial 26 with value: 0.7424242424242424.\n",
            "[I 2023-07-30 11:41:03,020] Trial 36 finished with value: 0.7272727272727273 and parameters: {'max_depth': 6, 'learning_rate': 0.0942970288526328, 'subsample': 0.6444979488498976, 'colsample_bytree': 0.792497042391719}. Best is trial 26 with value: 0.7424242424242424.\n",
            "[I 2023-07-30 11:41:03,100] Trial 37 finished with value: 0.7424242424242424 and parameters: {'max_depth': 7, 'learning_rate': 0.09897033141621937, 'subsample': 0.6806261417798893, 'colsample_bytree': 0.8207052429318187}. Best is trial 26 with value: 0.7424242424242424.\n",
            "[I 2023-07-30 11:41:03,183] Trial 38 finished with value: 0.7121212121212122 and parameters: {'max_depth': 8, 'learning_rate': 0.09072226746444756, 'subsample': 0.6892870641138804, 'colsample_bytree': 0.8161911542117207}. Best is trial 26 with value: 0.7424242424242424.\n",
            "[I 2023-07-30 11:41:03,263] Trial 39 finished with value: 0.696969696969697 and parameters: {'max_depth': 7, 'learning_rate': 0.09981069491049319, 'subsample': 0.7432863627881042, 'colsample_bytree': 0.8422620681179265}. Best is trial 26 with value: 0.7424242424242424.\n",
            "[I 2023-07-30 11:41:03,337] Trial 40 finished with value: 0.7121212121212122 and parameters: {'max_depth': 5, 'learning_rate': 0.082660241679253, 'subsample': 0.6682791548365763, 'colsample_bytree': 0.8320652048538921}. Best is trial 26 with value: 0.7424242424242424.\n",
            "[I 2023-07-30 11:41:03,429] Trial 41 finished with value: 0.7272727272727273 and parameters: {'max_depth': 7, 'learning_rate': 0.09614301420249499, 'subsample': 0.6778905712880119, 'colsample_bytree': 0.8224133456843938}. Best is trial 26 with value: 0.7424242424242424.\n",
            "[I 2023-07-30 11:41:03,518] Trial 42 finished with value: 0.7272727272727273 and parameters: {'max_depth': 6, 'learning_rate': 0.09019754927599131, 'subsample': 0.6440434345507324, 'colsample_bytree': 0.7999601701771594}. Best is trial 26 with value: 0.7424242424242424.\n",
            "[I 2023-07-30 11:41:03,609] Trial 43 finished with value: 0.696969696969697 and parameters: {'max_depth': 7, 'learning_rate': 0.09580242031090846, 'subsample': 0.7022415577454284, 'colsample_bytree': 0.7762488948728665}. Best is trial 26 with value: 0.7424242424242424.\n",
            "[I 2023-07-30 11:41:03,688] Trial 44 finished with value: 0.7272727272727273 and parameters: {'max_depth': 7, 'learning_rate': 0.08581218427680411, 'subsample': 0.6756915062955139, 'colsample_bytree': 0.8523397052750059}. Best is trial 26 with value: 0.7424242424242424.\n",
            "[I 2023-07-30 11:41:03,773] Trial 45 finished with value: 0.7272727272727273 and parameters: {'max_depth': 8, 'learning_rate': 0.09657108625165237, 'subsample': 0.6841553529501999, 'colsample_bytree': 0.8198740199232121}. Best is trial 26 with value: 0.7424242424242424.\n",
            "[I 2023-07-30 11:41:03,848] Trial 46 finished with value: 0.7121212121212122 and parameters: {'max_depth': 4, 'learning_rate': 0.09021958749837478, 'subsample': 0.7288865713989229, 'colsample_bytree': 0.7685341374429421}. Best is trial 26 with value: 0.7424242424242424.\n",
            "[I 2023-07-30 11:41:03,930] Trial 47 finished with value: 0.7121212121212122 and parameters: {'max_depth': 6, 'learning_rate': 0.07721968772099011, 'subsample': 0.7066465476491697, 'colsample_bytree': 0.8745321651251047}. Best is trial 26 with value: 0.7424242424242424.\n",
            "[I 2023-07-30 11:41:04,011] Trial 48 finished with value: 0.696969696969697 and parameters: {'max_depth': 8, 'learning_rate': 0.09921657833964083, 'subsample': 0.623496122171768, 'colsample_bytree': 0.8388102367466176}. Best is trial 26 with value: 0.7424242424242424.\n",
            "[I 2023-07-30 11:41:04,094] Trial 49 finished with value: 0.7272727272727273 and parameters: {'max_depth': 7, 'learning_rate': 0.08378696666880202, 'subsample': 0.7563383651259934, 'colsample_bytree': 0.7862497459279808}. Best is trial 26 with value: 0.7424242424242424.\n",
            "[I 2023-07-30 11:41:04,177] Trial 50 finished with value: 0.696969696969697 and parameters: {'max_depth': 6, 'learning_rate': 0.06323792300707597, 'subsample': 0.6877529233405677, 'colsample_bytree': 0.7993901071471642}. Best is trial 26 with value: 0.7424242424242424.\n",
            "[I 2023-07-30 11:41:04,263] Trial 51 finished with value: 0.7272727272727273 and parameters: {'max_depth': 9, 'learning_rate': 0.08113411115386997, 'subsample': 0.6193079710952627, 'colsample_bytree': 0.8838543187871051}. Best is trial 26 with value: 0.7424242424242424.\n",
            "[I 2023-07-30 11:41:04,335] Trial 52 finished with value: 0.7121212121212122 and parameters: {'max_depth': 3, 'learning_rate': 0.08863587000759555, 'subsample': 0.6089596467510494, 'colsample_bytree': 0.8589979905799777}. Best is trial 26 with value: 0.7424242424242424.\n",
            "[I 2023-07-30 11:41:04,419] Trial 53 finished with value: 0.7121212121212122 and parameters: {'max_depth': 9, 'learning_rate': 0.09628303601646464, 'subsample': 0.6513293746117341, 'colsample_bytree': 0.8885606358585798}. Best is trial 26 with value: 0.7424242424242424.\n",
            "[I 2023-07-30 11:41:04,501] Trial 54 finished with value: 0.7121212121212122 and parameters: {'max_depth': 7, 'learning_rate': 0.09248580558708537, 'subsample': 0.6312762255034058, 'colsample_bytree': 0.8747706853482976}. Best is trial 26 with value: 0.7424242424242424.\n",
            "[I 2023-07-30 11:41:04,577] Trial 55 finished with value: 0.7121212121212122 and parameters: {'max_depth': 4, 'learning_rate': 0.09988050367463797, 'subsample': 0.6624396492567827, 'colsample_bytree': 0.8261455035038078}. Best is trial 26 with value: 0.7424242424242424.\n",
            "[I 2023-07-30 11:41:04,660] Trial 56 finished with value: 0.7121212121212122 and parameters: {'max_depth': 10, 'learning_rate': 0.07891262992405518, 'subsample': 0.6136653806999071, 'colsample_bytree': 0.8516358576466202}. Best is trial 26 with value: 0.7424242424242424.\n",
            "[I 2023-07-30 11:41:04,741] Trial 57 finished with value: 0.696969696969697 and parameters: {'max_depth': 5, 'learning_rate': 0.08528008542188273, 'subsample': 0.6444070033264154, 'colsample_bytree': 0.8366093126593639}. Best is trial 26 with value: 0.7424242424242424.\n",
            "[I 2023-07-30 11:41:04,822] Trial 58 finished with value: 0.696969696969697 and parameters: {'max_depth': 9, 'learning_rate': 0.08819359928671001, 'subsample': 0.6069438402220736, 'colsample_bytree': 0.8655132118048787}. Best is trial 26 with value: 0.7424242424242424.\n",
            "[I 2023-07-30 11:41:04,908] Trial 59 finished with value: 0.696969696969697 and parameters: {'max_depth': 8, 'learning_rate': 0.08205388071759652, 'subsample': 0.6981858002702476, 'colsample_bytree': 0.8117684798156438}. Best is trial 26 with value: 0.7424242424242424.\n",
            "[I 2023-07-30 11:41:04,990] Trial 60 finished with value: 0.696969696969697 and parameters: {'max_depth': 7, 'learning_rate': 0.0738075560771621, 'subsample': 0.6298975077536904, 'colsample_bytree': 0.7564899932389171}. Best is trial 26 with value: 0.7424242424242424.\n",
            "[I 2023-07-30 11:41:05,073] Trial 61 finished with value: 0.7424242424242424 and parameters: {'max_depth': 8, 'learning_rate': 0.07479306649508163, 'subsample': 0.6712567185242098, 'colsample_bytree': 0.8944304756309391}. Best is trial 26 with value: 0.7424242424242424.\n",
            "[I 2023-07-30 11:41:05,158] Trial 62 finished with value: 0.7424242424242424 and parameters: {'max_depth': 10, 'learning_rate': 0.07625460054764308, 'subsample': 0.671910470105368, 'colsample_bytree': 0.8965157301023804}. Best is trial 26 with value: 0.7424242424242424.\n",
            "[I 2023-07-30 11:41:05,244] Trial 63 finished with value: 0.7575757575757576 and parameters: {'max_depth': 8, 'learning_rate': 0.06876108258686052, 'subsample': 0.6717426285218651, 'colsample_bytree': 0.8986371035639713}. Best is trial 63 with value: 0.7575757575757576.\n",
            "[I 2023-07-30 11:41:05,322] Trial 64 finished with value: 0.7575757575757576 and parameters: {'max_depth': 8, 'learning_rate': 0.07037263519617783, 'subsample': 0.6714356696754268, 'colsample_bytree': 0.8933161186884414}. Best is trial 63 with value: 0.7575757575757576.\n",
            "[I 2023-07-30 11:41:05,400] Trial 65 finished with value: 0.7424242424242424 and parameters: {'max_depth': 8, 'learning_rate': 0.06964853039921377, 'subsample': 0.6566808327349704, 'colsample_bytree': 0.8801820878024468}. Best is trial 63 with value: 0.7575757575757576.\n",
            "[I 2023-07-30 11:41:05,475] Trial 66 finished with value: 0.7424242424242424 and parameters: {'max_depth': 8, 'learning_rate': 0.07078957090771604, 'subsample': 0.6845226995519552, 'colsample_bytree': 0.8906861280436821}. Best is trial 63 with value: 0.7575757575757576.\n",
            "[I 2023-07-30 11:41:05,551] Trial 67 finished with value: 0.7272727272727273 and parameters: {'max_depth': 8, 'learning_rate': 0.05928526214052866, 'subsample': 0.6653192767879459, 'colsample_bytree': 0.8720377340955985}. Best is trial 63 with value: 0.7575757575757576.\n",
            "[I 2023-07-30 11:41:05,631] Trial 68 finished with value: 0.7272727272727273 and parameters: {'max_depth': 7, 'learning_rate': 0.06658150102876463, 'subsample': 0.6785647409493611, 'colsample_bytree': 0.8867529090839911}. Best is trial 63 with value: 0.7575757575757576.\n",
            "[I 2023-07-30 11:41:05,706] Trial 69 finished with value: 0.7272727272727273 and parameters: {'max_depth': 8, 'learning_rate': 0.07913077963118981, 'subsample': 0.6954124297219301, 'colsample_bytree': 0.8994447131793539}. Best is trial 63 with value: 0.7575757575757576.\n",
            "[I 2023-07-30 11:41:05,782] Trial 70 finished with value: 0.7424242424242424 and parameters: {'max_depth': 9, 'learning_rate': 0.07323466140687611, 'subsample': 0.6509116636053588, 'colsample_bytree': 0.8795053919011109}. Best is trial 63 with value: 0.7575757575757576.\n",
            "[I 2023-07-30 11:41:05,859] Trial 71 finished with value: 0.7575757575757576 and parameters: {'max_depth': 10, 'learning_rate': 0.0758233195327192, 'subsample': 0.6668470302973027, 'colsample_bytree': 0.8908491640019672}. Best is trial 63 with value: 0.7575757575757576.\n",
            "[I 2023-07-30 11:41:05,936] Trial 72 finished with value: 0.696969696969697 and parameters: {'max_depth': 7, 'learning_rate': 0.07532516690245432, 'subsample': 0.6706106480107041, 'colsample_bytree': 0.8671610684449627}. Best is trial 63 with value: 0.7575757575757576.\n",
            "[I 2023-07-30 11:41:06,013] Trial 73 finished with value: 0.696969696969697 and parameters: {'max_depth': 9, 'learning_rate': 0.06453226776350891, 'subsample': 0.6601785009795003, 'colsample_bytree': 0.8572969391401019}. Best is trial 63 with value: 0.7575757575757576.\n",
            "[I 2023-07-30 11:41:06,089] Trial 74 finished with value: 0.7424242424242424 and parameters: {'max_depth': 7, 'learning_rate': 0.07180214017965737, 'subsample': 0.6839072168621116, 'colsample_bytree': 0.8858759212981167}. Best is trial 63 with value: 0.7575757575757576.\n",
            "[I 2023-07-30 11:41:06,166] Trial 75 finished with value: 0.7121212121212122 and parameters: {'max_depth': 8, 'learning_rate': 0.07030404639133092, 'subsample': 0.6402460224337698, 'colsample_bytree': 0.892014111373484}. Best is trial 63 with value: 0.7575757575757576.\n",
            "[I 2023-07-30 11:41:06,240] Trial 76 finished with value: 0.7272727272727273 and parameters: {'max_depth': 6, 'learning_rate': 0.0793924463268384, 'subsample': 0.650667303020697, 'colsample_bytree': 0.8676414020909576}. Best is trial 63 with value: 0.7575757575757576.\n",
            "[I 2023-07-30 11:41:06,319] Trial 77 finished with value: 0.7121212121212122 and parameters: {'max_depth': 7, 'learning_rate': 0.07585440801031437, 'subsample': 0.6650786203686668, 'colsample_bytree': 0.8999973984703759}. Best is trial 63 with value: 0.7575757575757576.\n",
            "[I 2023-07-30 11:41:06,399] Trial 78 finished with value: 0.7424242424242424 and parameters: {'max_depth': 9, 'learning_rate': 0.07244491784505966, 'subsample': 0.676158162535734, 'colsample_bytree': 0.8798237403279857}. Best is trial 63 with value: 0.7575757575757576.\n",
            "[I 2023-07-30 11:41:06,477] Trial 79 finished with value: 0.7121212121212122 and parameters: {'max_depth': 8, 'learning_rate': 0.06747331368868066, 'subsample': 0.7057358375663616, 'colsample_bytree': 0.8495984411406667}. Best is trial 63 with value: 0.7575757575757576.\n",
            "[I 2023-07-30 11:41:06,556] Trial 80 finished with value: 0.7121212121212122 and parameters: {'max_depth': 7, 'learning_rate': 0.08425736623270322, 'subsample': 0.6571104655254923, 'colsample_bytree': 0.8607845317401717}. Best is trial 63 with value: 0.7575757575757576.\n",
            "[I 2023-07-30 11:41:06,635] Trial 81 finished with value: 0.7424242424242424 and parameters: {'max_depth': 10, 'learning_rate': 0.07638172916024787, 'subsample': 0.6702568768838896, 'colsample_bytree': 0.8930836690563122}. Best is trial 63 with value: 0.7575757575757576.\n",
            "[I 2023-07-30 11:41:06,714] Trial 82 finished with value: 0.7272727272727273 and parameters: {'max_depth': 10, 'learning_rate': 0.07473554572685612, 'subsample': 0.6886628916288176, 'colsample_bytree': 0.8959085057313781}. Best is trial 63 with value: 0.7575757575757576.\n",
            "[I 2023-07-30 11:41:06,791] Trial 83 finished with value: 0.7272727272727273 and parameters: {'max_depth': 10, 'learning_rate': 0.0774803655273126, 'subsample': 0.6735463033334624, 'colsample_bytree': 0.8744586681681908}. Best is trial 63 with value: 0.7575757575757576.\n",
            "[I 2023-07-30 11:41:06,869] Trial 84 finished with value: 0.7272727272727273 and parameters: {'max_depth': 10, 'learning_rate': 0.07939132780046682, 'subsample': 0.6823645691585384, 'colsample_bytree': 0.8832590595972275}. Best is trial 63 with value: 0.7575757575757576.\n",
            "[I 2023-07-30 11:41:06,950] Trial 85 finished with value: 0.7424242424242424 and parameters: {'max_depth': 9, 'learning_rate': 0.06853624236684494, 'subsample': 0.6941242420209233, 'colsample_bytree': 0.8873317055064467}. Best is trial 63 with value: 0.7575757575757576.\n",
            "[I 2023-07-30 11:41:07,030] Trial 86 finished with value: 0.696969696969697 and parameters: {'max_depth': 8, 'learning_rate': 0.08176393887477607, 'subsample': 0.6455105793052853, 'colsample_bytree': 0.8459439776733557}. Best is trial 63 with value: 0.7575757575757576.\n",
            "[I 2023-07-30 11:41:07,137] Trial 87 finished with value: 0.7121212121212122 and parameters: {'max_depth': 10, 'learning_rate': 0.08641942642613026, 'subsample': 0.6687517925408614, 'colsample_bytree': 0.8934225226492193}. Best is trial 63 with value: 0.7575757575757576.\n",
            "[I 2023-07-30 11:41:07,243] Trial 88 finished with value: 0.696969696969697 and parameters: {'max_depth': 6, 'learning_rate': 0.09144033397085535, 'subsample': 0.6582633100235316, 'colsample_bytree': 0.8695646460460482}. Best is trial 63 with value: 0.7575757575757576.\n",
            "[I 2023-07-30 11:41:07,343] Trial 89 finished with value: 0.7272727272727273 and parameters: {'max_depth': 9, 'learning_rate': 0.09505076427874137, 'subsample': 0.6790100093531912, 'colsample_bytree': 0.8613900431886728}. Best is trial 63 with value: 0.7575757575757576.\n",
            "[I 2023-07-30 11:41:07,452] Trial 90 finished with value: 0.7424242424242424 and parameters: {'max_depth': 7, 'learning_rate': 0.07198725891559281, 'subsample': 0.6641766292489155, 'colsample_bytree': 0.8790313064539071}. Best is trial 63 with value: 0.7575757575757576.\n",
            "[I 2023-07-30 11:41:07,560] Trial 91 finished with value: 0.7424242424242424 and parameters: {'max_depth': 8, 'learning_rate': 0.06863461525944071, 'subsample': 0.6721962365004053, 'colsample_bytree': 0.8817585203816509}. Best is trial 63 with value: 0.7575757575757576.\n",
            "[I 2023-07-30 11:41:07,662] Trial 92 finished with value: 0.7272727272727273 and parameters: {'max_depth': 8, 'learning_rate': 0.06181232086829146, 'subsample': 0.6530865389540694, 'colsample_bytree': 0.8925137676248543}. Best is trial 63 with value: 0.7575757575757576.\n",
            "[I 2023-07-30 11:41:07,757] Trial 93 finished with value: 0.7121212121212122 and parameters: {'max_depth': 7, 'learning_rate': 0.06991718459733737, 'subsample': 0.6579805780921977, 'colsample_bytree': 0.87481453385403}. Best is trial 63 with value: 0.7575757575757576.\n",
            "[I 2023-07-30 11:41:07,848] Trial 94 finished with value: 0.7272727272727273 and parameters: {'max_depth': 8, 'learning_rate': 0.07536900256593887, 'subsample': 0.6367809272781882, 'colsample_bytree': 0.8999258546864018}. Best is trial 63 with value: 0.7575757575757576.\n",
            "[I 2023-07-30 11:41:07,940] Trial 95 finished with value: 0.7121212121212122 and parameters: {'max_depth': 7, 'learning_rate': 0.07770314144423238, 'subsample': 0.6485474337237028, 'colsample_bytree': 0.8331602759570876}. Best is trial 63 with value: 0.7575757575757576.\n",
            "[I 2023-07-30 11:41:08,032] Trial 96 finished with value: 0.696969696969697 and parameters: {'max_depth': 8, 'learning_rate': 0.06625313815870679, 'subsample': 0.690578563401936, 'colsample_bytree': 0.8552162683092478}. Best is trial 63 with value: 0.7575757575757576.\n",
            "[I 2023-07-30 11:41:08,123] Trial 97 finished with value: 0.696969696969697 and parameters: {'max_depth': 7, 'learning_rate': 0.07378493194538573, 'subsample': 0.7007548241690033, 'colsample_bytree': 0.879386904173574}. Best is trial 63 with value: 0.7575757575757576.\n",
            "[I 2023-07-30 11:41:08,219] Trial 98 finished with value: 0.7575757575757576 and parameters: {'max_depth': 8, 'learning_rate': 0.06426065372428182, 'subsample': 0.6563177507356447, 'colsample_bytree': 0.8854293102859799}. Best is trial 63 with value: 0.7575757575757576.\n",
            "[I 2023-07-30 11:41:08,311] Trial 99 finished with value: 0.7424242424242424 and parameters: {'max_depth': 10, 'learning_rate': 0.0967181708878441, 'subsample': 0.677073499978549, 'colsample_bytree': 0.8885748077705967}. Best is trial 63 with value: 0.7575757575757576.\n"
          ]
        },
        {
          "name": "stdout",
          "output_type": "stream",
          "text": [
            "The best parameters {'max_depth': 8, 'learning_rate': 0.06876108258686052, 'subsample': 0.6717426285218651, 'colsample_bytree': 0.8986371035639713} gave an accuracy of 0.7575757575757576\n"
          ]
        }
      ],
      "source": [
        "# Define the objective function for Optuna optimization\n",
        "def objective(trial):\n",
        "    # Define the hyperparameters to tune\n",
        "    params = {\n",
        "        'max_depth': trial.suggest_int('max_depth', 3, 10),\n",
        "        'learning_rate': trial.suggest_uniform('learning_rate', 0.01, 0.1),\n",
        "        'subsample': trial.suggest_uniform('subsample', 0.6, 0.9),\n",
        "        'colsample_bytree': trial.suggest_uniform('colsample_bytree', 0.6, 0.9),\n",
        "    }\n",
        "    \n",
        "    # Create the pipeline with DictVectorizer and XGBoost Classifier\n",
        "    pipeline = make_pipeline(\n",
        "        DictVectorizer(),\n",
        "        xgb.XGBClassifier(**params, random_state=0)\n",
        "    )\n",
        "\n",
        "    # Train the pipeline\n",
        "    pipeline.fit(dict_train, y_train)\n",
        "    \n",
        "    # Predict on the validation set\n",
        "    y_pred = pipeline.predict(dict_val)\n",
        "\n",
        "    # Calculate accuracy score\n",
        "    accuracy = accuracy_score(y_val, y_pred)\n",
        "\n",
        "    # Return the accuracy for Optuna to optimize\n",
        "    return accuracy\n",
        "\n",
        "\n",
        "\n",
        "    \n",
        "    # Run Optuna optimization\n",
        "study = optuna.create_study(direction='maximize')\n",
        "study.optimize(objective, n_trials=100)\n",
        "\n",
        "    # Get the best parameters\n",
        "best_params = study.best_params\n",
        "  \n",
        "\n",
        "    # Create the final pipeline with the best parameters\n",
        "final_pipeline = make_pipeline(\n",
        "        DictVectorizer(sparse=False),\n",
        "        xgb.XGBClassifier(**best_params, random_state=0)\n",
        "    )\n",
        "\n",
        "    # Train the final pipeline\n",
        "final_pipeline.fit(dict_train, y_train)\n",
        "    \n",
        "    # Predict on the validation set using the final pipeline\n",
        "y_pred = final_pipeline.predict(dict_val)\n",
        "\n",
        "    # Calculate accuracy score using the final pipeline\n",
        "accuracy = accuracy_score(y_val, y_pred)\n",
        "print(f'The best parameters {best_params} gave an accuracy of {accuracy}')\n"
      ]
    },
    {
      "attachments": {},
      "cell_type": "markdown",
      "id": "25d9d94e",
      "metadata": {},
      "source": [
        "### Experiment tracking"
      ]
    },
    {
      "attachments": {},
      "cell_type": "markdown",
      "id": "852ad38d",
      "metadata": {
        "id": "852ad38d"
      },
      "source": [
        "I will go with the decision tree model. It achieved a high training-set accuracy score of 0.9949, indicating that it fits the training data very well. Additionally, it achieved a test model accuracy score of 0.6818, which suggests that it generalizes reasonably well to unseen data. The precision and recall values of 0.70 and 0.58, respectively, also indicate a decent performance in classifying that Liverpool will win more than it predicts Liverpool will lose."
      ]
    },
    {
      "cell_type": "code",
      "execution_count": 93,
      "id": "47f8f141",
      "metadata": {
        "id": "47f8f141"
      },
      "outputs": [
        {
          "data": {
            "text/plain": [
              "(66, 8)"
            ]
          },
          "execution_count": 93,
          "metadata": {},
          "output_type": "execute_result"
        }
      ],
      "source": [
        "test_data.shape"
      ]
    },
    {
      "cell_type": "code",
      "execution_count": 94,
      "id": "f95825af",
      "metadata": {},
      "outputs": [
        {
          "name": "stderr",
          "output_type": "stream",
          "text": [
            "[I 2023-07-30 11:41:08,478] A new study created in memory with name: no-name-16d8bbc9-1f43-4434-ae91-ad68c1675964\n",
            "[I 2023-07-30 11:41:08,488] Trial 0 finished with value: 0.6515151515151515 and parameters: {'max_depth': 9, 'min_samples_split': 7, 'min_samples_leaf': 2}. Best is trial 0 with value: 0.6515151515151515.\n",
            "[I 2023-07-30 11:41:08,497] Trial 1 finished with value: 0.6060606060606061 and parameters: {'max_depth': 9, 'min_samples_split': 9, 'min_samples_leaf': 1}. Best is trial 0 with value: 0.6515151515151515.\n"
          ]
        },
        {
          "name": "stderr",
          "output_type": "stream",
          "text": [
            "[I 2023-07-30 11:41:08,508] Trial 2 finished with value: 0.5606060606060606 and parameters: {'max_depth': 8, 'min_samples_split': 8, 'min_samples_leaf': 4}. Best is trial 0 with value: 0.6515151515151515.\n",
            "[I 2023-07-30 11:41:08,518] Trial 3 finished with value: 0.6212121212121212 and parameters: {'max_depth': 7, 'min_samples_split': 6, 'min_samples_leaf': 4}. Best is trial 0 with value: 0.6515151515151515.\n",
            "[I 2023-07-30 11:41:08,563] Trial 4 finished with value: 0.6666666666666666 and parameters: {'max_depth': 3, 'min_samples_split': 5, 'min_samples_leaf': 5}. Best is trial 4 with value: 0.6666666666666666.\n",
            "[I 2023-07-30 11:41:08,572] Trial 5 finished with value: 0.6515151515151515 and parameters: {'max_depth': 5, 'min_samples_split': 3, 'min_samples_leaf': 4}. Best is trial 4 with value: 0.6666666666666666.\n",
            "[I 2023-07-30 11:41:08,584] Trial 6 finished with value: 0.6060606060606061 and parameters: {'max_depth': 5, 'min_samples_split': 9, 'min_samples_leaf': 5}. Best is trial 4 with value: 0.6666666666666666.\n",
            "[I 2023-07-30 11:41:08,596] Trial 7 finished with value: 0.5606060606060606 and parameters: {'max_depth': 9, 'min_samples_split': 4, 'min_samples_leaf': 4}. Best is trial 4 with value: 0.6666666666666666.\n",
            "[I 2023-07-30 11:41:08,606] Trial 8 finished with value: 0.6060606060606061 and parameters: {'max_depth': 7, 'min_samples_split': 7, 'min_samples_leaf': 1}. Best is trial 4 with value: 0.6666666666666666.\n",
            "[I 2023-07-30 11:41:08,618] Trial 9 finished with value: 0.6515151515151515 and parameters: {'max_depth': 4, 'min_samples_split': 10, 'min_samples_leaf': 4}. Best is trial 4 with value: 0.6666666666666666.\n",
            "[I 2023-07-30 11:41:08,654] Trial 10 finished with value: 0.6666666666666666 and parameters: {'max_depth': 3, 'min_samples_split': 5, 'min_samples_leaf': 5}. Best is trial 4 with value: 0.6666666666666666.\n",
            "[I 2023-07-30 11:41:08,680] Trial 11 finished with value: 0.6666666666666666 and parameters: {'max_depth': 3, 'min_samples_split': 5, 'min_samples_leaf': 5}. Best is trial 4 with value: 0.6666666666666666.\n",
            "[I 2023-07-30 11:41:08,707] Trial 12 finished with value: 0.6666666666666666 and parameters: {'max_depth': 3, 'min_samples_split': 2, 'min_samples_leaf': 5}. Best is trial 4 with value: 0.6666666666666666.\n",
            "[I 2023-07-30 11:41:08,734] Trial 13 finished with value: 0.6212121212121212 and parameters: {'max_depth': 5, 'min_samples_split': 5, 'min_samples_leaf': 3}. Best is trial 4 with value: 0.6666666666666666.\n",
            "[I 2023-07-30 11:41:08,758] Trial 14 finished with value: 0.6666666666666666 and parameters: {'max_depth': 3, 'min_samples_split': 4, 'min_samples_leaf': 3}. Best is trial 4 with value: 0.6666666666666666.\n",
            "[I 2023-07-30 11:41:08,784] Trial 15 finished with value: 0.5909090909090909 and parameters: {'max_depth': 4, 'min_samples_split': 6, 'min_samples_leaf': 5}. Best is trial 4 with value: 0.6666666666666666.\n",
            "[I 2023-07-30 11:41:08,808] Trial 16 finished with value: 0.5757575757575758 and parameters: {'max_depth': 6, 'min_samples_split': 4, 'min_samples_leaf': 2}. Best is trial 4 with value: 0.6666666666666666.\n",
            "[I 2023-07-30 11:41:08,833] Trial 17 finished with value: 0.5909090909090909 and parameters: {'max_depth': 4, 'min_samples_split': 5, 'min_samples_leaf': 5}. Best is trial 4 with value: 0.6666666666666666.\n",
            "[I 2023-07-30 11:41:08,856] Trial 18 finished with value: 0.6212121212121212 and parameters: {'max_depth': 6, 'min_samples_split': 2, 'min_samples_leaf': 3}. Best is trial 4 with value: 0.6666666666666666.\n",
            "[I 2023-07-30 11:41:08,882] Trial 19 finished with value: 0.6666666666666666 and parameters: {'max_depth': 3, 'min_samples_split': 7, 'min_samples_leaf': 5}. Best is trial 4 with value: 0.6666666666666666.\n",
            "[I 2023-07-30 11:41:08,912] Trial 20 finished with value: 0.6060606060606061 and parameters: {'max_depth': 10, 'min_samples_split': 3, 'min_samples_leaf': 2}. Best is trial 4 with value: 0.6666666666666666.\n",
            "[I 2023-07-30 11:41:08,934] Trial 21 finished with value: 0.6666666666666666 and parameters: {'max_depth': 3, 'min_samples_split': 5, 'min_samples_leaf': 5}. Best is trial 4 with value: 0.6666666666666666.\n",
            "[I 2023-07-30 11:41:08,958] Trial 22 finished with value: 0.5909090909090909 and parameters: {'max_depth': 4, 'min_samples_split': 6, 'min_samples_leaf': 5}. Best is trial 4 with value: 0.6666666666666666.\n",
            "[I 2023-07-30 11:41:08,995] Trial 23 finished with value: 0.6666666666666666 and parameters: {'max_depth': 3, 'min_samples_split': 5, 'min_samples_leaf': 4}. Best is trial 4 with value: 0.6666666666666666.\n",
            "[I 2023-07-30 11:41:09,024] Trial 24 finished with value: 0.5909090909090909 and parameters: {'max_depth': 4, 'min_samples_split': 4, 'min_samples_leaf': 5}. Best is trial 4 with value: 0.6666666666666666.\n",
            "[I 2023-07-30 11:41:09,047] Trial 25 finished with value: 0.6515151515151515 and parameters: {'max_depth': 5, 'min_samples_split': 6, 'min_samples_leaf': 4}. Best is trial 4 with value: 0.6666666666666666.\n",
            "[I 2023-07-30 11:41:09,084] Trial 26 finished with value: 0.6666666666666666 and parameters: {'max_depth': 3, 'min_samples_split': 3, 'min_samples_leaf': 5}. Best is trial 4 with value: 0.6666666666666666.\n",
            "[I 2023-07-30 11:41:09,126] Trial 27 finished with value: 0.6515151515151515 and parameters: {'max_depth': 4, 'min_samples_split': 5, 'min_samples_leaf': 4}. Best is trial 4 with value: 0.6666666666666666.\n",
            "[I 2023-07-30 11:41:09,158] Trial 28 finished with value: 0.6666666666666666 and parameters: {'max_depth': 3, 'min_samples_split': 6, 'min_samples_leaf': 5}. Best is trial 4 with value: 0.6666666666666666.\n",
            "[I 2023-07-30 11:41:09,198] Trial 29 finished with value: 0.6212121212121212 and parameters: {'max_depth': 6, 'min_samples_split': 7, 'min_samples_leaf': 3}. Best is trial 4 with value: 0.6666666666666666.\n",
            "[I 2023-07-30 11:41:09,234] Trial 30 finished with value: 0.5909090909090909 and parameters: {'max_depth': 4, 'min_samples_split': 8, 'min_samples_leaf': 5}. Best is trial 4 with value: 0.6666666666666666.\n",
            "[I 2023-07-30 11:41:09,273] Trial 31 finished with value: 0.6666666666666666 and parameters: {'max_depth': 3, 'min_samples_split': 2, 'min_samples_leaf': 5}. Best is trial 4 with value: 0.6666666666666666.\n",
            "[I 2023-07-30 11:41:09,305] Trial 32 finished with value: 0.6666666666666666 and parameters: {'max_depth': 3, 'min_samples_split': 3, 'min_samples_leaf': 5}. Best is trial 4 with value: 0.6666666666666666.\n",
            "[I 2023-07-30 11:41:09,335] Trial 33 finished with value: 0.6666666666666666 and parameters: {'max_depth': 3, 'min_samples_split': 4, 'min_samples_leaf': 4}. Best is trial 4 with value: 0.6666666666666666.\n",
            "[I 2023-07-30 11:41:09,368] Trial 34 finished with value: 0.5909090909090909 and parameters: {'max_depth': 4, 'min_samples_split': 2, 'min_samples_leaf': 5}. Best is trial 4 with value: 0.6666666666666666.\n",
            "[I 2023-07-30 11:41:09,400] Trial 35 finished with value: 0.6515151515151515 and parameters: {'max_depth': 5, 'min_samples_split': 5, 'min_samples_leaf': 4}. Best is trial 4 with value: 0.6666666666666666.\n",
            "[I 2023-07-30 11:41:09,428] Trial 36 finished with value: 0.6515151515151515 and parameters: {'max_depth': 3, 'min_samples_split': 3, 'min_samples_leaf': 1}. Best is trial 4 with value: 0.6666666666666666.\n",
            "[I 2023-07-30 11:41:09,459] Trial 37 finished with value: 0.5909090909090909 and parameters: {'max_depth': 4, 'min_samples_split': 8, 'min_samples_leaf': 5}. Best is trial 4 with value: 0.6666666666666666.\n",
            "[I 2023-07-30 11:41:09,489] Trial 38 finished with value: 0.5606060606060606 and parameters: {'max_depth': 8, 'min_samples_split': 6, 'min_samples_leaf': 4}. Best is trial 4 with value: 0.6666666666666666.\n",
            "[I 2023-07-30 11:41:09,529] Trial 39 finished with value: 0.6060606060606061 and parameters: {'max_depth': 5, 'min_samples_split': 4, 'min_samples_leaf': 5}. Best is trial 4 with value: 0.6666666666666666.\n",
            "[I 2023-07-30 11:41:09,564] Trial 40 finished with value: 0.6666666666666666 and parameters: {'max_depth': 3, 'min_samples_split': 8, 'min_samples_leaf': 4}. Best is trial 4 with value: 0.6666666666666666.\n",
            "[I 2023-07-30 11:41:09,597] Trial 41 finished with value: 0.6666666666666666 and parameters: {'max_depth': 3, 'min_samples_split': 4, 'min_samples_leaf': 3}. Best is trial 4 with value: 0.6666666666666666.\n",
            "[I 2023-07-30 11:41:09,634] Trial 42 finished with value: 0.6666666666666666 and parameters: {'max_depth': 3, 'min_samples_split': 5, 'min_samples_leaf': 3}. Best is trial 4 with value: 0.6666666666666666.\n",
            "[I 2023-07-30 11:41:09,668] Trial 43 finished with value: 0.6515151515151515 and parameters: {'max_depth': 4, 'min_samples_split': 4, 'min_samples_leaf': 2}. Best is trial 4 with value: 0.6666666666666666.\n",
            "[I 2023-07-30 11:41:09,722] Trial 44 finished with value: 0.6212121212121212 and parameters: {'max_depth': 8, 'min_samples_split': 3, 'min_samples_leaf': 3}. Best is trial 4 with value: 0.6666666666666666.\n",
            "[I 2023-07-30 11:41:09,766] Trial 45 finished with value: 0.6666666666666666 and parameters: {'max_depth': 3, 'min_samples_split': 5, 'min_samples_leaf': 4}. Best is trial 4 with value: 0.6666666666666666.\n",
            "[I 2023-07-30 11:41:09,803] Trial 46 finished with value: 0.6212121212121212 and parameters: {'max_depth': 4, 'min_samples_split': 2, 'min_samples_leaf': 3}. Best is trial 4 with value: 0.6666666666666666.\n",
            "[I 2023-07-30 11:41:09,837] Trial 47 finished with value: 0.6060606060606061 and parameters: {'max_depth': 5, 'min_samples_split': 4, 'min_samples_leaf': 5}. Best is trial 4 with value: 0.6666666666666666.\n",
            "[I 2023-07-30 11:41:09,868] Trial 48 finished with value: 0.6666666666666666 and parameters: {'max_depth': 3, 'min_samples_split': 6, 'min_samples_leaf': 4}. Best is trial 4 with value: 0.6666666666666666.\n",
            "[I 2023-07-30 11:41:09,898] Trial 49 finished with value: 0.5909090909090909 and parameters: {'max_depth': 4, 'min_samples_split': 5, 'min_samples_leaf': 5}. Best is trial 4 with value: 0.6666666666666666.\n",
            "[I 2023-07-30 11:41:09,927] Trial 50 finished with value: 0.6060606060606061 and parameters: {'max_depth': 7, 'min_samples_split': 7, 'min_samples_leaf': 2}. Best is trial 4 with value: 0.6666666666666666.\n",
            "[I 2023-07-30 11:41:09,959] Trial 51 finished with value: 0.6666666666666666 and parameters: {'max_depth': 3, 'min_samples_split': 7, 'min_samples_leaf': 5}. Best is trial 4 with value: 0.6666666666666666.\n",
            "[I 2023-07-30 11:41:09,987] Trial 52 finished with value: 0.6666666666666666 and parameters: {'max_depth': 3, 'min_samples_split': 7, 'min_samples_leaf': 5}. Best is trial 4 with value: 0.6666666666666666.\n",
            "[I 2023-07-30 11:41:10,021] Trial 53 finished with value: 0.5909090909090909 and parameters: {'max_depth': 4, 'min_samples_split': 6, 'min_samples_leaf': 5}. Best is trial 4 with value: 0.6666666666666666.\n",
            "[I 2023-07-30 11:41:10,053] Trial 54 finished with value: 0.6666666666666666 and parameters: {'max_depth': 3, 'min_samples_split': 6, 'min_samples_leaf': 5}. Best is trial 4 with value: 0.6666666666666666.\n",
            "[I 2023-07-30 11:41:10,080] Trial 55 finished with value: 0.6666666666666666 and parameters: {'max_depth': 3, 'min_samples_split': 5, 'min_samples_leaf': 5}. Best is trial 4 with value: 0.6666666666666666.\n",
            "[I 2023-07-30 11:41:10,109] Trial 56 finished with value: 0.6515151515151515 and parameters: {'max_depth': 4, 'min_samples_split': 5, 'min_samples_leaf': 4}. Best is trial 4 with value: 0.6666666666666666.\n",
            "[I 2023-07-30 11:41:10,149] Trial 57 finished with value: 0.6666666666666666 and parameters: {'max_depth': 3, 'min_samples_split': 10, 'min_samples_leaf': 5}. Best is trial 4 with value: 0.6666666666666666.\n",
            "[I 2023-07-30 11:41:10,191] Trial 58 finished with value: 0.6060606060606061 and parameters: {'max_depth': 5, 'min_samples_split': 4, 'min_samples_leaf': 1}. Best is trial 4 with value: 0.6666666666666666.\n",
            "[I 2023-07-30 11:41:10,243] Trial 59 finished with value: 0.6666666666666666 and parameters: {'max_depth': 3, 'min_samples_split': 6, 'min_samples_leaf': 5}. Best is trial 4 with value: 0.6666666666666666.\n",
            "[I 2023-07-30 11:41:10,285] Trial 60 finished with value: 0.6212121212121212 and parameters: {'max_depth': 4, 'min_samples_split': 3, 'min_samples_leaf': 3}. Best is trial 4 with value: 0.6666666666666666.\n",
            "[I 2023-07-30 11:41:10,314] Trial 61 finished with value: 0.6666666666666666 and parameters: {'max_depth': 3, 'min_samples_split': 5, 'min_samples_leaf': 5}. Best is trial 4 with value: 0.6666666666666666.\n",
            "[I 2023-07-30 11:41:10,342] Trial 62 finished with value: 0.6212121212121212 and parameters: {'max_depth': 9, 'min_samples_split': 9, 'min_samples_leaf': 5}. Best is trial 4 with value: 0.6666666666666666.\n",
            "[I 2023-07-30 11:41:10,375] Trial 63 finished with value: 0.6666666666666666 and parameters: {'max_depth': 3, 'min_samples_split': 5, 'min_samples_leaf': 5}. Best is trial 4 with value: 0.6666666666666666.\n",
            "[I 2023-07-30 11:41:10,402] Trial 64 finished with value: 0.6212121212121212 and parameters: {'max_depth': 10, 'min_samples_split': 5, 'min_samples_leaf': 5}. Best is trial 4 with value: 0.6666666666666666.\n",
            "[I 2023-07-30 11:41:10,433] Trial 65 finished with value: 0.5909090909090909 and parameters: {'max_depth': 4, 'min_samples_split': 6, 'min_samples_leaf': 5}. Best is trial 4 with value: 0.6666666666666666.\n",
            "[I 2023-07-30 11:41:10,469] Trial 66 finished with value: 0.6666666666666666 and parameters: {'max_depth': 3, 'min_samples_split': 4, 'min_samples_leaf': 5}. Best is trial 4 with value: 0.6666666666666666.\n",
            "[I 2023-07-30 11:41:10,497] Trial 67 finished with value: 0.6666666666666666 and parameters: {'max_depth': 3, 'min_samples_split': 6, 'min_samples_leaf': 4}. Best is trial 4 with value: 0.6666666666666666.\n",
            "[I 2023-07-30 11:41:10,530] Trial 68 finished with value: 0.5909090909090909 and parameters: {'max_depth': 4, 'min_samples_split': 4, 'min_samples_leaf': 5}. Best is trial 4 with value: 0.6666666666666666.\n",
            "[I 2023-07-30 11:41:10,560] Trial 69 finished with value: 0.6666666666666666 and parameters: {'max_depth': 3, 'min_samples_split': 5, 'min_samples_leaf': 5}. Best is trial 4 with value: 0.6666666666666666.\n",
            "[I 2023-07-30 11:41:10,588] Trial 70 finished with value: 0.6515151515151515 and parameters: {'max_depth': 4, 'min_samples_split': 2, 'min_samples_leaf': 4}. Best is trial 4 with value: 0.6666666666666666.\n",
            "[I 2023-07-30 11:41:10,619] Trial 71 finished with value: 0.6666666666666666 and parameters: {'max_depth': 3, 'min_samples_split': 5, 'min_samples_leaf': 5}. Best is trial 4 with value: 0.6666666666666666.\n",
            "[I 2023-07-30 11:41:10,647] Trial 72 finished with value: 0.6666666666666666 and parameters: {'max_depth': 3, 'min_samples_split': 8, 'min_samples_leaf': 4}. Best is trial 4 with value: 0.6666666666666666.\n",
            "[I 2023-07-30 11:41:10,692] Trial 73 finished with value: 0.6666666666666666 and parameters: {'max_depth': 3, 'min_samples_split': 4, 'min_samples_leaf': 3}. Best is trial 4 with value: 0.6666666666666666.\n",
            "[I 2023-07-30 11:41:10,726] Trial 74 finished with value: 0.6666666666666666 and parameters: {'max_depth': 3, 'min_samples_split': 5, 'min_samples_leaf': 5}. Best is trial 4 with value: 0.6666666666666666.\n",
            "[I 2023-07-30 11:41:10,758] Trial 75 finished with value: 0.5909090909090909 and parameters: {'max_depth': 4, 'min_samples_split': 6, 'min_samples_leaf': 5}. Best is trial 4 with value: 0.6666666666666666.\n",
            "[I 2023-07-30 11:41:10,784] Trial 76 finished with value: 0.6666666666666666 and parameters: {'max_depth': 3, 'min_samples_split': 5, 'min_samples_leaf': 3}. Best is trial 4 with value: 0.6666666666666666.\n",
            "[I 2023-07-30 11:41:10,812] Trial 77 finished with value: 0.6666666666666666 and parameters: {'max_depth': 3, 'min_samples_split': 4, 'min_samples_leaf': 4}. Best is trial 4 with value: 0.6666666666666666.\n",
            "[I 2023-07-30 11:41:10,840] Trial 78 finished with value: 0.6666666666666666 and parameters: {'max_depth': 3, 'min_samples_split': 3, 'min_samples_leaf': 5}. Best is trial 4 with value: 0.6666666666666666.\n",
            "[I 2023-07-30 11:41:10,868] Trial 79 finished with value: 0.6515151515151515 and parameters: {'max_depth': 6, 'min_samples_split': 6, 'min_samples_leaf': 4}. Best is trial 4 with value: 0.6666666666666666.\n",
            "[I 2023-07-30 11:41:10,899] Trial 80 finished with value: 0.5909090909090909 and parameters: {'max_depth': 4, 'min_samples_split': 5, 'min_samples_leaf': 5}. Best is trial 4 with value: 0.6666666666666666.\n",
            "[I 2023-07-30 11:41:10,927] Trial 81 finished with value: 0.6666666666666666 and parameters: {'max_depth': 3, 'min_samples_split': 3, 'min_samples_leaf': 5}. Best is trial 4 with value: 0.6666666666666666.\n",
            "[I 2023-07-30 11:41:10,960] Trial 82 finished with value: 0.6666666666666666 and parameters: {'max_depth': 3, 'min_samples_split': 2, 'min_samples_leaf': 5}. Best is trial 4 with value: 0.6666666666666666.\n",
            "[I 2023-07-30 11:41:10,994] Trial 83 finished with value: 0.6666666666666666 and parameters: {'max_depth': 3, 'min_samples_split': 2, 'min_samples_leaf': 5}. Best is trial 4 with value: 0.6666666666666666.\n",
            "[I 2023-07-30 11:41:11,026] Trial 84 finished with value: 0.6666666666666666 and parameters: {'max_depth': 3, 'min_samples_split': 3, 'min_samples_leaf': 5}. Best is trial 4 with value: 0.6666666666666666.\n",
            "[I 2023-07-30 11:41:11,060] Trial 85 finished with value: 0.6666666666666666 and parameters: {'max_depth': 3, 'min_samples_split': 4, 'min_samples_leaf': 5}. Best is trial 4 with value: 0.6666666666666666.\n",
            "[I 2023-07-30 11:41:11,086] Trial 86 finished with value: 0.5909090909090909 and parameters: {'max_depth': 4, 'min_samples_split': 3, 'min_samples_leaf': 5}. Best is trial 4 with value: 0.6666666666666666.\n",
            "[I 2023-07-30 11:41:11,118] Trial 87 finished with value: 0.6666666666666666 and parameters: {'max_depth': 3, 'min_samples_split': 4, 'min_samples_leaf': 5}. Best is trial 4 with value: 0.6666666666666666.\n",
            "[I 2023-07-30 11:41:11,154] Trial 88 finished with value: 0.6212121212121212 and parameters: {'max_depth': 4, 'min_samples_split': 5, 'min_samples_leaf': 3}. Best is trial 4 with value: 0.6666666666666666.\n",
            "[I 2023-07-30 11:41:11,182] Trial 89 finished with value: 0.6666666666666666 and parameters: {'max_depth': 3, 'min_samples_split': 7, 'min_samples_leaf': 5}. Best is trial 4 with value: 0.6666666666666666.\n",
            "[I 2023-07-30 11:41:11,210] Trial 90 finished with value: 0.6515151515151515 and parameters: {'max_depth': 3, 'min_samples_split': 2, 'min_samples_leaf': 2}. Best is trial 4 with value: 0.6666666666666666.\n",
            "[I 2023-07-30 11:41:11,237] Trial 91 finished with value: 0.6666666666666666 and parameters: {'max_depth': 3, 'min_samples_split': 7, 'min_samples_leaf': 5}. Best is trial 4 with value: 0.6666666666666666.\n",
            "[I 2023-07-30 11:41:11,276] Trial 92 finished with value: 0.6666666666666666 and parameters: {'max_depth': 3, 'min_samples_split': 6, 'min_samples_leaf': 5}. Best is trial 4 with value: 0.6666666666666666.\n",
            "[I 2023-07-30 11:41:11,303] Trial 93 finished with value: 0.6666666666666666 and parameters: {'max_depth': 3, 'min_samples_split': 5, 'min_samples_leaf': 5}. Best is trial 4 with value: 0.6666666666666666.\n",
            "[I 2023-07-30 11:41:11,335] Trial 94 finished with value: 0.6666666666666666 and parameters: {'max_depth': 3, 'min_samples_split': 7, 'min_samples_leaf': 5}. Best is trial 4 with value: 0.6666666666666666.\n",
            "[I 2023-07-30 11:41:11,363] Trial 95 finished with value: 0.6515151515151515 and parameters: {'max_depth': 4, 'min_samples_split': 4, 'min_samples_leaf': 4}. Best is trial 4 with value: 0.6666666666666666.\n",
            "[I 2023-07-30 11:41:11,395] Trial 96 finished with value: 0.6666666666666666 and parameters: {'max_depth': 3, 'min_samples_split': 6, 'min_samples_leaf': 5}. Best is trial 4 with value: 0.6666666666666666.\n",
            "[I 2023-07-30 11:41:11,425] Trial 97 finished with value: 0.6666666666666666 and parameters: {'max_depth': 3, 'min_samples_split': 5, 'min_samples_leaf': 5}. Best is trial 4 with value: 0.6666666666666666.\n",
            "[I 2023-07-30 11:41:11,451] Trial 98 finished with value: 0.6212121212121212 and parameters: {'max_depth': 4, 'min_samples_split': 3, 'min_samples_leaf': 3}. Best is trial 4 with value: 0.6666666666666666.\n",
            "[I 2023-07-30 11:41:11,480] Trial 99 finished with value: 0.6666666666666666 and parameters: {'max_depth': 3, 'min_samples_split': 6, 'min_samples_leaf': 5}. Best is trial 4 with value: 0.6666666666666666.\n"
          ]
        },
        {
          "name": "stdout",
          "output_type": "stream",
          "text": [
            "The best parameters {'max_depth': 3, 'min_samples_split': 5, 'min_samples_leaf': 5} gave an accuracy of 0.6667\n",
            "Precision: 0.79\n",
            "Recall: 0.45\n"
          ]
        }
      ],
      "source": [
        "# Define the objective function for Optuna optimization\n",
        "def objective(trial):\n",
        "    # Define the hyperparameters to tune\n",
        "    params = {\n",
        "        'max_depth': trial.suggest_int('max_depth', 3, 10),\n",
        "        'min_samples_split': trial.suggest_int('min_samples_split', 2, 10),\n",
        "        'min_samples_leaf': trial.suggest_int('min_samples_leaf', 1, 5),\n",
        "    }\n",
        "\n",
        "    # Create the pipeline with DictVectorizer and DecisionTreeClassifier\n",
        "    pipeline = make_pipeline(\n",
        "        DictVectorizer(),\n",
        "        DecisionTreeClassifier(random_state=0, **params)\n",
        "    )\n",
        "\n",
        "    # Fit the pipeline\n",
        "    pipeline.fit(dict_train, y_train)\n",
        "\n",
        "    # Predict on the validation set\n",
        "    y_pred = pipeline.predict(dict_val)\n",
        "\n",
        "    # Calculate accuracy score\n",
        "    accuracy = accuracy_score(y_val, y_pred)\n",
        "\n",
        "    # Return the accuracy for Optuna to optimize\n",
        "    return accuracy\n",
        "\n",
        "# Start an MLflow run\n",
        "with mlflow.start_run():\n",
        "    # Set a tag to identify the developer\n",
        "    mlflow.set_tag('Developer', '🅱🅻🅰🆀')\n",
        "\n",
        "    # Run Optuna optimization\n",
        "    study = optuna.create_study(direction='maximize')\n",
        "    study.optimize(objective, n_trials=100)\n",
        "\n",
        "    # Get the best parameters\n",
        "    best_params = study.best_params\n",
        "    mlflow.log_params(best_params)\n",
        "\n",
        "    # Create the final pipeline with the best parameters\n",
        "    final_pipeline = make_pipeline(\n",
        "    DictVectorizer(),\n",
        "    DecisionTreeClassifier(random_state=0, **best_params)\n",
        "    )   \n",
        "\n",
        "    # Fit the final pipeline\n",
        "    final_pipeline.fit(dict_train, y_train)\n",
        "\n",
        "    # Predict on the validation set using the final pipeline\n",
        "    y_pred = final_pipeline.predict(dict_val)\n",
        "\n",
        "    # Calculate accuracy, precision, and recall using the final pipeline\n",
        "    accuracy = accuracy_score(y_val, y_pred)\n",
        "    precision = precision_score(y_val, y_pred)\n",
        "    recall = recall_score(y_val, y_pred)\n",
        "\n",
        "    print(f'The best parameters {best_params} gave an accuracy of {accuracy:.4f}')\n",
        "    print(f'Precision: {precision:.2f}')\n",
        "    print(f'Recall: {recall:.2f}')\n",
        "\n",
        "    # Log the accuracy metric to MLflow\n",
        "    mlflow.log_metric('accuracy', accuracy)\n",
        "    mlflow.log_metric('precision', precision)\n",
        "    mlflow.log_metric('recall', recall)\n",
        "\n",
        "    # Log the final pipeline to MLflow\n",
        "    mlflow.sklearn.log_model(final_pipeline, \"pipeline\")\n"
      ]
    },
    {
      "attachments": {},
      "cell_type": "markdown",
      "id": "2907f7ae",
      "metadata": {},
      "source": [
        "### Save model"
      ]
    },
    {
      "cell_type": "code",
      "execution_count": 95,
      "id": "903f5fae",
      "metadata": {},
      "outputs": [],
      "source": [
        "# Save the model\n",
        "with open('model/pipeline.bin', 'wb') as file:\n",
        "    pickle.dump(final_pipeline, file)"
      ]
    },
    {
      "cell_type": "code",
      "execution_count": 96,
      "id": "44812e14",
      "metadata": {},
      "outputs": [],
      "source": [
        "# Save the object\n",
        "#with open('vectorizer.bin', 'wb') as file:\n",
        "#    pickle.dump(dv, file)"
      ]
    },
    {
      "attachments": {},
      "cell_type": "markdown",
      "id": "c9306bea",
      "metadata": {},
      "source": [
        "### Register the model on MLflow Model Registry"
      ]
    },
    {
      "cell_type": "code",
      "execution_count": 97,
      "id": "007050d9",
      "metadata": {},
      "outputs": [
        {
          "name": "stderr",
          "output_type": "stream",
          "text": [
            "Successfully registered model 'best_decision_tree_model'.\n",
            "2023/07/30 11:41:16 INFO mlflow.tracking._model_registry.client: Waiting up to 300 seconds for model version to finish creation. Model name: best_decision_tree_model, version 1\n",
            "Created version '1' of model 'best_decision_tree_model'.\n"
          ]
        }
      ],
      "source": [
        "def run_register_model(top_n: int):\n",
        "\n",
        "    client = MlflowClient()\n",
        "\n",
        "    # Retrieve the top_n model runs and log the models\n",
        "    experiment = client.get_experiment_by_name(\"Klopps-Liverpool-experiment\")\n",
        "    runs = client.search_runs(\n",
        "        experiment_ids=experiment.experiment_id,\n",
        "        run_view_type=ViewType.ACTIVE_ONLY,\n",
        "        max_results=top_n,\n",
        "        order_by=[\"metrics.rmse ASC\"]\n",
        "    )\n",
        "\n",
        "    # Select the model with the lowest test RMSE\n",
        "    experiment = client.get_experiment_by_name(\"Klopps-Liverpool-experiment\")\n",
        "    best_run = client.search_runs(\n",
        "        experiment_ids=experiment.experiment_id,\n",
        "        run_view_type=ViewType.ACTIVE_ONLY,\n",
        "        max_results=1,\n",
        "        order_by=[\"metrics.test_rmse ASC\"]\n",
        "    )[0]\n",
        "\n",
        "    # Register the best model\n",
        "    run_id = best_run.info.run_id\n",
        "    model_uri = f\"runs:/{run_id}/model\"\n",
        "    model_name = \"best_decision_tree_model\"\n",
        "    mlflow.register_model(model_uri, model_name)\n",
        "\n",
        "run_register_model(1)"
      ]
    }
  ],
  "metadata": {
    "colab": {
      "provenance": []
    },
    "kernelspec": {
      "display_name": "data",
      "language": "python",
      "name": "python3"
    },
    "language_info": {
      "codemirror_mode": {
        "name": "ipython",
        "version": 3
      },
      "file_extension": ".py",
      "mimetype": "text/x-python",
      "name": "python",
      "nbconvert_exporter": "python",
      "pygments_lexer": "ipython3",
      "version": "3.10.12"
    },
    "vscode": {
      "interpreter": {
        "hash": "59ea8c71ed3f0450b25c837a537fabfa8ac1a234a8438e78a8d54460b86a9f89"
      }
    }
  },
  "nbformat": 4,
  "nbformat_minor": 5
}
